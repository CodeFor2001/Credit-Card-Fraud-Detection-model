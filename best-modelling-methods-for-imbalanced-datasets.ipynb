{
 "cells": [
  {
   "cell_type": "code",
   "execution_count": 1,
   "id": "5c6f022f",
   "metadata": {
    "_cell_guid": "b1076dfc-b9ad-4769-8c92-a6c4dae69d19",
    "_uuid": "8f2839f25d086af736a60e9eeb907d3b93b6e0e5",
    "execution": {
     "iopub.execute_input": "2022-04-10T17:42:56.804549Z",
     "iopub.status.busy": "2022-04-10T17:42:56.802779Z",
     "iopub.status.idle": "2022-04-10T17:42:56.820158Z",
     "shell.execute_reply": "2022-04-10T17:42:56.820691Z",
     "shell.execute_reply.started": "2022-04-10T15:35:59.689238Z"
    },
    "papermill": {
     "duration": 0.067957,
     "end_time": "2022-04-10T17:42:56.820980",
     "exception": false,
     "start_time": "2022-04-10T17:42:56.753023",
     "status": "completed"
    },
    "tags": []
   },
   "outputs": [
    {
     "name": "stdout",
     "output_type": "stream",
     "text": [
      "/kaggle/input/creditcardfraud/creditcard.csv\n"
     ]
    }
   ],
   "source": [
    "# This Python 3 environment comes with many helpful analytics libraries installed\n",
    "# It is defined by the kaggle/python Docker image: https://github.com/kaggle/docker-python\n",
    "# For example, here's several helpful packages to load\n",
    "\n",
    "import numpy as np # linear algebra\n",
    "import pandas as pd # data processing, CSV file I/O (e.g. pd.read_csv)\n",
    "\n",
    "# Input data files are available in the read-only \"../input/\" directory\n",
    "# For example, running this (by clicking run or pressing Shift+Enter) will list all files under the input directory\n",
    "\n",
    "import os\n",
    "for dirname, _, filenames in os.walk('/kaggle/input'):\n",
    "    for filename in filenames:\n",
    "        print(os.path.join(dirname, filename))\n",
    "\n",
    "# You can write up to 20GB to the current directory (/kaggle/working/) that gets preserved as output when you create a version using \"Save & Run All\" \n",
    "# You can also write temporary files to /kaggle/temp/, but they won't be saved outside of the current session"
   ]
  },
  {
   "cell_type": "code",
   "execution_count": 2,
   "id": "68c34199",
   "metadata": {
    "execution": {
     "iopub.execute_input": "2022-04-10T17:42:56.917574Z",
     "iopub.status.busy": "2022-04-10T17:42:56.916940Z",
     "iopub.status.idle": "2022-04-10T17:42:58.182318Z",
     "shell.execute_reply": "2022-04-10T17:42:58.183257Z",
     "shell.execute_reply.started": "2022-04-10T16:27:08.562005Z"
    },
    "papermill": {
     "duration": 1.316775,
     "end_time": "2022-04-10T17:42:58.183450",
     "exception": false,
     "start_time": "2022-04-10T17:42:56.866675",
     "status": "completed"
    },
    "tags": []
   },
   "outputs": [],
   "source": [
    "from sklearn.preprocessing import StandardScaler # data normalization\n",
    "from sklearn.model_selection import train_test_split # data split\n",
    "from sklearn.ensemble import RandomForestClassifier # Random forest tree algorithm\n",
    "from sklearn.metrics import accuracy_score, confusion_matrix, classification_report, confusion_matrix"
   ]
  },
  {
   "cell_type": "code",
   "execution_count": 3,
   "id": "0f76dece",
   "metadata": {
    "execution": {
     "iopub.execute_input": "2022-04-10T17:42:58.294497Z",
     "iopub.status.busy": "2022-04-10T17:42:58.293854Z",
     "iopub.status.idle": "2022-04-10T17:43:02.606182Z",
     "shell.execute_reply": "2022-04-10T17:43:02.605608Z",
     "shell.execute_reply.started": "2022-04-10T15:36:00.959339Z"
    },
    "papermill": {
     "duration": 4.36449,
     "end_time": "2022-04-10T17:43:02.606335",
     "exception": false,
     "start_time": "2022-04-10T17:42:58.241845",
     "status": "completed"
    },
    "tags": []
   },
   "outputs": [],
   "source": [
    "df = pd.read_csv(\"/kaggle/input/creditcardfraud/creditcard.csv\")"
   ]
  },
  {
   "cell_type": "code",
   "execution_count": 4,
   "id": "e021827d",
   "metadata": {
    "execution": {
     "iopub.execute_input": "2022-04-10T17:43:02.706318Z",
     "iopub.status.busy": "2022-04-10T17:43:02.705531Z",
     "iopub.status.idle": "2022-04-10T17:43:02.730846Z",
     "shell.execute_reply": "2022-04-10T17:43:02.731342Z",
     "shell.execute_reply.started": "2022-04-10T15:36:04.896865Z"
    },
    "papermill": {
     "duration": 0.081112,
     "end_time": "2022-04-10T17:43:02.731504",
     "exception": false,
     "start_time": "2022-04-10T17:43:02.650392",
     "status": "completed"
    },
    "tags": []
   },
   "outputs": [
    {
     "data": {
      "text/html": [
       "<div>\n",
       "<style scoped>\n",
       "    .dataframe tbody tr th:only-of-type {\n",
       "        vertical-align: middle;\n",
       "    }\n",
       "\n",
       "    .dataframe tbody tr th {\n",
       "        vertical-align: top;\n",
       "    }\n",
       "\n",
       "    .dataframe thead th {\n",
       "        text-align: right;\n",
       "    }\n",
       "</style>\n",
       "<table border=\"1\" class=\"dataframe\">\n",
       "  <thead>\n",
       "    <tr style=\"text-align: right;\">\n",
       "      <th></th>\n",
       "      <th>Time</th>\n",
       "      <th>V1</th>\n",
       "      <th>V2</th>\n",
       "      <th>V3</th>\n",
       "      <th>V4</th>\n",
       "      <th>V5</th>\n",
       "      <th>V6</th>\n",
       "      <th>V7</th>\n",
       "      <th>V8</th>\n",
       "      <th>V9</th>\n",
       "      <th>...</th>\n",
       "      <th>V21</th>\n",
       "      <th>V22</th>\n",
       "      <th>V23</th>\n",
       "      <th>V24</th>\n",
       "      <th>V25</th>\n",
       "      <th>V26</th>\n",
       "      <th>V27</th>\n",
       "      <th>V28</th>\n",
       "      <th>Amount</th>\n",
       "      <th>Class</th>\n",
       "    </tr>\n",
       "  </thead>\n",
       "  <tbody>\n",
       "    <tr>\n",
       "      <th>0</th>\n",
       "      <td>0.0</td>\n",
       "      <td>-1.359807</td>\n",
       "      <td>-0.072781</td>\n",
       "      <td>2.536347</td>\n",
       "      <td>1.378155</td>\n",
       "      <td>-0.338321</td>\n",
       "      <td>0.462388</td>\n",
       "      <td>0.239599</td>\n",
       "      <td>0.098698</td>\n",
       "      <td>0.363787</td>\n",
       "      <td>...</td>\n",
       "      <td>-0.018307</td>\n",
       "      <td>0.277838</td>\n",
       "      <td>-0.110474</td>\n",
       "      <td>0.066928</td>\n",
       "      <td>0.128539</td>\n",
       "      <td>-0.189115</td>\n",
       "      <td>0.133558</td>\n",
       "      <td>-0.021053</td>\n",
       "      <td>149.62</td>\n",
       "      <td>0</td>\n",
       "    </tr>\n",
       "    <tr>\n",
       "      <th>1</th>\n",
       "      <td>0.0</td>\n",
       "      <td>1.191857</td>\n",
       "      <td>0.266151</td>\n",
       "      <td>0.166480</td>\n",
       "      <td>0.448154</td>\n",
       "      <td>0.060018</td>\n",
       "      <td>-0.082361</td>\n",
       "      <td>-0.078803</td>\n",
       "      <td>0.085102</td>\n",
       "      <td>-0.255425</td>\n",
       "      <td>...</td>\n",
       "      <td>-0.225775</td>\n",
       "      <td>-0.638672</td>\n",
       "      <td>0.101288</td>\n",
       "      <td>-0.339846</td>\n",
       "      <td>0.167170</td>\n",
       "      <td>0.125895</td>\n",
       "      <td>-0.008983</td>\n",
       "      <td>0.014724</td>\n",
       "      <td>2.69</td>\n",
       "      <td>0</td>\n",
       "    </tr>\n",
       "    <tr>\n",
       "      <th>2</th>\n",
       "      <td>1.0</td>\n",
       "      <td>-1.358354</td>\n",
       "      <td>-1.340163</td>\n",
       "      <td>1.773209</td>\n",
       "      <td>0.379780</td>\n",
       "      <td>-0.503198</td>\n",
       "      <td>1.800499</td>\n",
       "      <td>0.791461</td>\n",
       "      <td>0.247676</td>\n",
       "      <td>-1.514654</td>\n",
       "      <td>...</td>\n",
       "      <td>0.247998</td>\n",
       "      <td>0.771679</td>\n",
       "      <td>0.909412</td>\n",
       "      <td>-0.689281</td>\n",
       "      <td>-0.327642</td>\n",
       "      <td>-0.139097</td>\n",
       "      <td>-0.055353</td>\n",
       "      <td>-0.059752</td>\n",
       "      <td>378.66</td>\n",
       "      <td>0</td>\n",
       "    </tr>\n",
       "    <tr>\n",
       "      <th>3</th>\n",
       "      <td>1.0</td>\n",
       "      <td>-0.966272</td>\n",
       "      <td>-0.185226</td>\n",
       "      <td>1.792993</td>\n",
       "      <td>-0.863291</td>\n",
       "      <td>-0.010309</td>\n",
       "      <td>1.247203</td>\n",
       "      <td>0.237609</td>\n",
       "      <td>0.377436</td>\n",
       "      <td>-1.387024</td>\n",
       "      <td>...</td>\n",
       "      <td>-0.108300</td>\n",
       "      <td>0.005274</td>\n",
       "      <td>-0.190321</td>\n",
       "      <td>-1.175575</td>\n",
       "      <td>0.647376</td>\n",
       "      <td>-0.221929</td>\n",
       "      <td>0.062723</td>\n",
       "      <td>0.061458</td>\n",
       "      <td>123.50</td>\n",
       "      <td>0</td>\n",
       "    </tr>\n",
       "    <tr>\n",
       "      <th>4</th>\n",
       "      <td>2.0</td>\n",
       "      <td>-1.158233</td>\n",
       "      <td>0.877737</td>\n",
       "      <td>1.548718</td>\n",
       "      <td>0.403034</td>\n",
       "      <td>-0.407193</td>\n",
       "      <td>0.095921</td>\n",
       "      <td>0.592941</td>\n",
       "      <td>-0.270533</td>\n",
       "      <td>0.817739</td>\n",
       "      <td>...</td>\n",
       "      <td>-0.009431</td>\n",
       "      <td>0.798278</td>\n",
       "      <td>-0.137458</td>\n",
       "      <td>0.141267</td>\n",
       "      <td>-0.206010</td>\n",
       "      <td>0.502292</td>\n",
       "      <td>0.219422</td>\n",
       "      <td>0.215153</td>\n",
       "      <td>69.99</td>\n",
       "      <td>0</td>\n",
       "    </tr>\n",
       "  </tbody>\n",
       "</table>\n",
       "<p>5 rows × 31 columns</p>\n",
       "</div>"
      ],
      "text/plain": [
       "   Time        V1        V2        V3        V4        V5        V6        V7  \\\n",
       "0   0.0 -1.359807 -0.072781  2.536347  1.378155 -0.338321  0.462388  0.239599   \n",
       "1   0.0  1.191857  0.266151  0.166480  0.448154  0.060018 -0.082361 -0.078803   \n",
       "2   1.0 -1.358354 -1.340163  1.773209  0.379780 -0.503198  1.800499  0.791461   \n",
       "3   1.0 -0.966272 -0.185226  1.792993 -0.863291 -0.010309  1.247203  0.237609   \n",
       "4   2.0 -1.158233  0.877737  1.548718  0.403034 -0.407193  0.095921  0.592941   \n",
       "\n",
       "         V8        V9  ...       V21       V22       V23       V24       V25  \\\n",
       "0  0.098698  0.363787  ... -0.018307  0.277838 -0.110474  0.066928  0.128539   \n",
       "1  0.085102 -0.255425  ... -0.225775 -0.638672  0.101288 -0.339846  0.167170   \n",
       "2  0.247676 -1.514654  ...  0.247998  0.771679  0.909412 -0.689281 -0.327642   \n",
       "3  0.377436 -1.387024  ... -0.108300  0.005274 -0.190321 -1.175575  0.647376   \n",
       "4 -0.270533  0.817739  ... -0.009431  0.798278 -0.137458  0.141267 -0.206010   \n",
       "\n",
       "        V26       V27       V28  Amount  Class  \n",
       "0 -0.189115  0.133558 -0.021053  149.62      0  \n",
       "1  0.125895 -0.008983  0.014724    2.69      0  \n",
       "2 -0.139097 -0.055353 -0.059752  378.66      0  \n",
       "3 -0.221929  0.062723  0.061458  123.50      0  \n",
       "4  0.502292  0.219422  0.215153   69.99      0  \n",
       "\n",
       "[5 rows x 31 columns]"
      ]
     },
     "execution_count": 4,
     "metadata": {},
     "output_type": "execute_result"
    }
   ],
   "source": [
    "df.head()"
   ]
  },
  {
   "cell_type": "code",
   "execution_count": 5,
   "id": "e5bbc4e2",
   "metadata": {
    "execution": {
     "iopub.execute_input": "2022-04-10T17:43:02.826654Z",
     "iopub.status.busy": "2022-04-10T17:43:02.825965Z",
     "iopub.status.idle": "2022-04-10T17:43:02.850943Z",
     "shell.execute_reply": "2022-04-10T17:43:02.850358Z",
     "shell.execute_reply.started": "2022-04-10T15:36:04.940583Z"
    },
    "papermill": {
     "duration": 0.074999,
     "end_time": "2022-04-10T17:43:02.851082",
     "exception": false,
     "start_time": "2022-04-10T17:43:02.776083",
     "status": "completed"
    },
    "tags": []
   },
   "outputs": [
    {
     "data": {
      "text/plain": [
       "Time      0\n",
       "V1        0\n",
       "V2        0\n",
       "V3        0\n",
       "V4        0\n",
       "V5        0\n",
       "V6        0\n",
       "V7        0\n",
       "V8        0\n",
       "V9        0\n",
       "V10       0\n",
       "V11       0\n",
       "V12       0\n",
       "V13       0\n",
       "V14       0\n",
       "V15       0\n",
       "V16       0\n",
       "V17       0\n",
       "V18       0\n",
       "V19       0\n",
       "V20       0\n",
       "V21       0\n",
       "V22       0\n",
       "V23       0\n",
       "V24       0\n",
       "V25       0\n",
       "V26       0\n",
       "V27       0\n",
       "V28       0\n",
       "Amount    0\n",
       "Class     0\n",
       "dtype: int64"
      ]
     },
     "execution_count": 5,
     "metadata": {},
     "output_type": "execute_result"
    }
   ],
   "source": [
    "df.isna().sum()"
   ]
  },
  {
   "cell_type": "code",
   "execution_count": 6,
   "id": "577e8822",
   "metadata": {
    "execution": {
     "iopub.execute_input": "2022-04-10T17:43:02.978811Z",
     "iopub.status.busy": "2022-04-10T17:43:02.977781Z",
     "iopub.status.idle": "2022-04-10T17:43:02.982504Z",
     "shell.execute_reply": "2022-04-10T17:43:02.981977Z",
     "shell.execute_reply.started": "2022-04-10T15:36:04.970105Z"
    },
    "papermill": {
     "duration": 0.085801,
     "end_time": "2022-04-10T17:43:02.982660",
     "exception": false,
     "start_time": "2022-04-10T17:43:02.896859",
     "status": "completed"
    },
    "tags": []
   },
   "outputs": [],
   "source": [
    "df.drop('Time', axis = 1, inplace = True)"
   ]
  },
  {
   "cell_type": "code",
   "execution_count": 7,
   "id": "b1ab90a7",
   "metadata": {
    "execution": {
     "iopub.execute_input": "2022-04-10T17:43:03.084680Z",
     "iopub.status.busy": "2022-04-10T17:43:03.083968Z",
     "iopub.status.idle": "2022-04-10T17:43:03.086558Z",
     "shell.execute_reply": "2022-04-10T17:43:03.087051Z",
     "shell.execute_reply.started": "2022-04-10T15:36:05.008883Z"
    },
    "papermill": {
     "duration": 0.058996,
     "end_time": "2022-04-10T17:43:03.087220",
     "exception": false,
     "start_time": "2022-04-10T17:43:03.028224",
     "status": "completed"
    },
    "tags": []
   },
   "outputs": [
    {
     "data": {
      "text/plain": [
       "0    284315\n",
       "1       492\n",
       "Name: Class, dtype: int64"
      ]
     },
     "execution_count": 7,
     "metadata": {},
     "output_type": "execute_result"
    }
   ],
   "source": [
    "df['Class'].value_counts()\n",
    "#1=fraud, 0=notfraud"
   ]
  },
  {
   "cell_type": "code",
   "execution_count": 8,
   "id": "3dc0d2fc",
   "metadata": {
    "execution": {
     "iopub.execute_input": "2022-04-10T17:43:03.183722Z",
     "iopub.status.busy": "2022-04-10T17:43:03.183053Z",
     "iopub.status.idle": "2022-04-10T17:43:03.247039Z",
     "shell.execute_reply": "2022-04-10T17:43:03.247541Z",
     "shell.execute_reply.started": "2022-04-10T16:15:46.945701Z"
    },
    "papermill": {
     "duration": 0.114878,
     "end_time": "2022-04-10T17:43:03.247767",
     "exception": false,
     "start_time": "2022-04-10T17:43:03.132889",
     "status": "completed"
    },
    "tags": []
   },
   "outputs": [
    {
     "name": "stdout",
     "output_type": "stream",
     "text": [
      "Amount stats for non fraud class\n",
      "count    284315.000000\n",
      "mean         88.291022\n",
      "std         250.105092\n",
      "min           0.000000\n",
      "25%           5.650000\n",
      "50%          22.000000\n",
      "75%          77.050000\n",
      "max       25691.160000\n",
      "Name: Amount, dtype: float64\n",
      "\n",
      "Amount stats for fraud class\n",
      "count     492.000000\n",
      "mean      122.211321\n",
      "std       256.683288\n",
      "min         0.000000\n",
      "25%         1.000000\n",
      "50%         9.250000\n",
      "75%       105.890000\n",
      "max      2125.870000\n",
      "Name: Amount, dtype: float64\n"
     ]
    }
   ],
   "source": [
    "nonfraud = df[df.Class==0]\n",
    "fraud = df[df.Class==1]\n",
    "\n",
    "print(\"Amount stats for non fraud class\")\n",
    "print(nonfraud.Amount.describe())\n",
    "\n",
    "print(\"\\nAmount stats for fraud class\")\n",
    "print(fraud.Amount.describe())"
   ]
  },
  {
   "cell_type": "markdown",
   "id": "f20434b0",
   "metadata": {
    "papermill": {
     "duration": 0.044984,
     "end_time": "2022-04-10T17:43:03.338333",
     "exception": false,
     "start_time": "2022-04-10T17:43:03.293349",
     "status": "completed"
    },
    "tags": []
   },
   "source": [
    "Values of amount variable are varying a lot, needs normalising\n",
    "## standard scaling"
   ]
  },
  {
   "cell_type": "code",
   "execution_count": 9,
   "id": "42494f74",
   "metadata": {
    "execution": {
     "iopub.execute_input": "2022-04-10T17:43:03.434641Z",
     "iopub.status.busy": "2022-04-10T17:43:03.433970Z",
     "iopub.status.idle": "2022-04-10T17:43:03.443297Z",
     "shell.execute_reply": "2022-04-10T17:43:03.443887Z",
     "shell.execute_reply.started": "2022-04-10T15:36:05.108947Z"
    },
    "papermill": {
     "duration": 0.060788,
     "end_time": "2022-04-10T17:43:03.444056",
     "exception": false,
     "start_time": "2022-04-10T17:43:03.383268",
     "status": "completed"
    },
    "tags": []
   },
   "outputs": [
    {
     "data": {
      "text/plain": [
       "0         0.244964\n",
       "1        -0.342475\n",
       "2         1.160686\n",
       "3         0.140534\n",
       "4        -0.073403\n",
       "            ...   \n",
       "284802   -0.350151\n",
       "284803   -0.254117\n",
       "284804   -0.081839\n",
       "284805   -0.313249\n",
       "284806    0.514355\n",
       "Name: Amount, Length: 284807, dtype: float64"
      ]
     },
     "execution_count": 9,
     "metadata": {},
     "output_type": "execute_result"
    }
   ],
   "source": [
    "\n",
    "sc = StandardScaler()\n",
    "\n",
    "amt = df['Amount'].values\n",
    "\n",
    "df['Amount'] = sc.fit_transform(amt.reshape(-1,1))\n",
    "\n",
    "df['Amount']"
   ]
  },
  {
   "cell_type": "code",
   "execution_count": 10,
   "id": "85f1a5a6",
   "metadata": {
    "execution": {
     "iopub.execute_input": "2022-04-10T17:43:03.538944Z",
     "iopub.status.busy": "2022-04-10T17:43:03.538272Z",
     "iopub.status.idle": "2022-04-10T17:43:03.762927Z",
     "shell.execute_reply": "2022-04-10T17:43:03.762325Z",
     "shell.execute_reply.started": "2022-04-10T15:36:05.123841Z"
    },
    "papermill": {
     "duration": 0.273324,
     "end_time": "2022-04-10T17:43:03.763066",
     "exception": false,
     "start_time": "2022-04-10T17:43:03.489742",
     "status": "completed"
    },
    "tags": []
   },
   "outputs": [],
   "source": [
    "X = df.drop('Class',axis=1)\n",
    "y = df['Class']\n",
    "\n",
    "X_train, X_test, y_train, y_test = train_test_split(X,y, test_size=0.2, stratify =y, random_state=1)"
   ]
  },
  {
   "cell_type": "code",
   "execution_count": 11,
   "id": "13dd9e5d",
   "metadata": {
    "execution": {
     "iopub.execute_input": "2022-04-10T17:43:03.860477Z",
     "iopub.status.busy": "2022-04-10T17:43:03.859488Z",
     "iopub.status.idle": "2022-04-10T17:43:03.879686Z",
     "shell.execute_reply": "2022-04-10T17:43:03.880244Z",
     "shell.execute_reply.started": "2022-04-10T15:36:05.321028Z"
    },
    "papermill": {
     "duration": 0.071407,
     "end_time": "2022-04-10T17:43:03.880413",
     "exception": false,
     "start_time": "2022-04-10T17:43:03.809006",
     "status": "completed"
    },
    "tags": []
   },
   "outputs": [
    {
     "data": {
      "text/html": [
       "<div>\n",
       "<style scoped>\n",
       "    .dataframe tbody tr th:only-of-type {\n",
       "        vertical-align: middle;\n",
       "    }\n",
       "\n",
       "    .dataframe tbody tr th {\n",
       "        vertical-align: top;\n",
       "    }\n",
       "\n",
       "    .dataframe thead th {\n",
       "        text-align: right;\n",
       "    }\n",
       "</style>\n",
       "<table border=\"1\" class=\"dataframe\">\n",
       "  <thead>\n",
       "    <tr style=\"text-align: right;\">\n",
       "      <th></th>\n",
       "      <th>V1</th>\n",
       "      <th>V2</th>\n",
       "      <th>V3</th>\n",
       "      <th>V4</th>\n",
       "      <th>V5</th>\n",
       "      <th>V6</th>\n",
       "      <th>V7</th>\n",
       "      <th>V8</th>\n",
       "      <th>V9</th>\n",
       "      <th>V10</th>\n",
       "      <th>...</th>\n",
       "      <th>V20</th>\n",
       "      <th>V21</th>\n",
       "      <th>V22</th>\n",
       "      <th>V23</th>\n",
       "      <th>V24</th>\n",
       "      <th>V25</th>\n",
       "      <th>V26</th>\n",
       "      <th>V27</th>\n",
       "      <th>V28</th>\n",
       "      <th>Amount</th>\n",
       "    </tr>\n",
       "  </thead>\n",
       "  <tbody>\n",
       "    <tr>\n",
       "      <th>9341</th>\n",
       "      <td>1.148607</td>\n",
       "      <td>-0.004154</td>\n",
       "      <td>-0.231106</td>\n",
       "      <td>1.124256</td>\n",
       "      <td>0.696077</td>\n",
       "      <td>1.177523</td>\n",
       "      <td>-0.160142</td>\n",
       "      <td>0.201478</td>\n",
       "      <td>1.568269</td>\n",
       "      <td>-0.32029</td>\n",
       "      <td>...</td>\n",
       "      <td>-0.122816</td>\n",
       "      <td>-0.294334</td>\n",
       "      <td>-0.55062</td>\n",
       "      <td>-0.309693</td>\n",
       "      <td>-1.773489</td>\n",
       "      <td>0.791006</td>\n",
       "      <td>-0.263954</td>\n",
       "      <td>-0.008489</td>\n",
       "      <td>-0.011284</td>\n",
       "      <td>-0.118142</td>\n",
       "    </tr>\n",
       "  </tbody>\n",
       "</table>\n",
       "<p>1 rows × 29 columns</p>\n",
       "</div>"
      ],
      "text/plain": [
       "            V1        V2        V3        V4        V5        V6        V7  \\\n",
       "9341  1.148607 -0.004154 -0.231106  1.124256  0.696077  1.177523 -0.160142   \n",
       "\n",
       "            V8        V9      V10  ...       V20       V21      V22       V23  \\\n",
       "9341  0.201478  1.568269 -0.32029  ... -0.122816 -0.294334 -0.55062 -0.309693   \n",
       "\n",
       "           V24       V25       V26       V27       V28    Amount  \n",
       "9341 -1.773489  0.791006 -0.263954 -0.008489 -0.011284 -0.118142  \n",
       "\n",
       "[1 rows x 29 columns]"
      ]
     },
     "execution_count": 11,
     "metadata": {},
     "output_type": "execute_result"
    }
   ],
   "source": [
    "X_train[:1]"
   ]
  },
  {
   "cell_type": "markdown",
   "id": "8a179f92",
   "metadata": {
    "papermill": {
     "duration": 0.049547,
     "end_time": "2022-04-10T17:43:03.979089",
     "exception": false,
     "start_time": "2022-04-10T17:43:03.929542",
     "status": "completed"
    },
    "tags": []
   },
   "source": [
    "# Unbalanced data"
   ]
  },
  {
   "cell_type": "code",
   "execution_count": 12,
   "id": "6ce60a39",
   "metadata": {
    "execution": {
     "iopub.execute_input": "2022-04-10T17:43:04.084166Z",
     "iopub.status.busy": "2022-04-10T17:43:04.083175Z",
     "iopub.status.idle": "2022-04-10T17:44:08.011465Z",
     "shell.execute_reply": "2022-04-10T17:44:08.012027Z",
     "shell.execute_reply.started": "2022-04-10T15:36:05.340806Z"
    },
    "papermill": {
     "duration": 63.982891,
     "end_time": "2022-04-10T17:44:08.012231",
     "exception": false,
     "start_time": "2022-04-10T17:43:04.029340",
     "status": "completed"
    },
    "tags": []
   },
   "outputs": [],
   "source": [
    "rf = RandomForestClassifier(max_depth = 4)\n",
    "rf.fit(X_train, y_train)\n",
    "rf_ypred = rf.predict(X_test)"
   ]
  },
  {
   "cell_type": "code",
   "execution_count": 13,
   "id": "25da42e5",
   "metadata": {
    "execution": {
     "iopub.execute_input": "2022-04-10T17:44:08.110107Z",
     "iopub.status.busy": "2022-04-10T17:44:08.109455Z",
     "iopub.status.idle": "2022-04-10T17:44:08.171853Z",
     "shell.execute_reply": "2022-04-10T17:44:08.172405Z",
     "shell.execute_reply.started": "2022-04-10T15:37:07.45539Z"
    },
    "papermill": {
     "duration": 0.113537,
     "end_time": "2022-04-10T17:44:08.172633",
     "exception": false,
     "start_time": "2022-04-10T17:44:08.059096",
     "status": "completed"
    },
    "tags": []
   },
   "outputs": [
    {
     "name": "stdout",
     "output_type": "stream",
     "text": [
      "              precision    recall  f1-score   support\n",
      "\n",
      "           0       1.00      1.00      1.00     56864\n",
      "           1       0.91      0.80      0.85        98\n",
      "\n",
      "    accuracy                           1.00     56962\n",
      "   macro avg       0.95      0.90      0.92     56962\n",
      "weighted avg       1.00      1.00      1.00     56962\n",
      "\n"
     ]
    }
   ],
   "source": [
    "print(classification_report(y_test, rf_ypred))"
   ]
  },
  {
   "cell_type": "markdown",
   "id": "66e5850c",
   "metadata": {
    "papermill": {
     "duration": 0.046625,
     "end_time": "2022-04-10T17:44:08.267544",
     "exception": false,
     "start_time": "2022-04-10T17:44:08.220919",
     "status": "completed"
    },
    "tags": []
   },
   "source": [
    "# SMOTE - oversampling"
   ]
  },
  {
   "cell_type": "code",
   "execution_count": 14,
   "id": "af027703",
   "metadata": {
    "execution": {
     "iopub.execute_input": "2022-04-10T17:44:08.365360Z",
     "iopub.status.busy": "2022-04-10T17:44:08.364752Z",
     "iopub.status.idle": "2022-04-10T17:44:08.496068Z",
     "shell.execute_reply": "2022-04-10T17:44:08.495345Z",
     "shell.execute_reply.started": "2022-04-10T15:37:07.519464Z"
    },
    "papermill": {
     "duration": 0.181527,
     "end_time": "2022-04-10T17:44:08.496216",
     "exception": false,
     "start_time": "2022-04-10T17:44:08.314689",
     "status": "completed"
    },
    "tags": []
   },
   "outputs": [],
   "source": [
    "from imblearn.over_sampling import SMOTE"
   ]
  },
  {
   "cell_type": "code",
   "execution_count": 15,
   "id": "2f3280fe",
   "metadata": {
    "execution": {
     "iopub.execute_input": "2022-04-10T17:44:08.596578Z",
     "iopub.status.busy": "2022-04-10T17:44:08.595960Z",
     "iopub.status.idle": "2022-04-10T17:44:09.068444Z",
     "shell.execute_reply": "2022-04-10T17:44:09.067773Z",
     "shell.execute_reply.started": "2022-04-10T15:37:07.645638Z"
    },
    "papermill": {
     "duration": 0.524733,
     "end_time": "2022-04-10T17:44:09.068618",
     "exception": false,
     "start_time": "2022-04-10T17:44:08.543885",
     "status": "completed"
    },
    "tags": []
   },
   "outputs": [],
   "source": [
    "sm = SMOTE(sampling_strategy=1, k_neighbors=5, random_state=7)\n",
    "X_train_over, y_train_over = sm.fit_resample(X_train, y_train)"
   ]
  },
  {
   "cell_type": "code",
   "execution_count": 16,
   "id": "d45a7c4c",
   "metadata": {
    "execution": {
     "iopub.execute_input": "2022-04-10T17:44:09.172889Z",
     "iopub.status.busy": "2022-04-10T17:44:09.172239Z",
     "iopub.status.idle": "2022-04-10T17:44:09.176010Z",
     "shell.execute_reply": "2022-04-10T17:44:09.175324Z",
     "shell.execute_reply.started": "2022-04-10T15:37:08.11707Z"
    },
    "papermill": {
     "duration": 0.059091,
     "end_time": "2022-04-10T17:44:09.176155",
     "exception": false,
     "start_time": "2022-04-10T17:44:09.117064",
     "status": "completed"
    },
    "tags": []
   },
   "outputs": [
    {
     "data": {
      "text/plain": [
       "0    227451\n",
       "1    227451\n",
       "Name: Class, dtype: int64"
      ]
     },
     "execution_count": 16,
     "metadata": {},
     "output_type": "execute_result"
    }
   ],
   "source": [
    "y_train_over.value_counts()"
   ]
  },
  {
   "cell_type": "code",
   "execution_count": 17,
   "id": "58b44a13",
   "metadata": {
    "execution": {
     "iopub.execute_input": "2022-04-10T17:44:09.273402Z",
     "iopub.status.busy": "2022-04-10T17:44:09.272776Z",
     "iopub.status.idle": "2022-04-10T17:51:10.589308Z",
     "shell.execute_reply": "2022-04-10T17:51:10.588689Z",
     "shell.execute_reply.started": "2022-04-10T15:37:08.127497Z"
    },
    "papermill": {
     "duration": 421.366416,
     "end_time": "2022-04-10T17:51:10.589467",
     "exception": false,
     "start_time": "2022-04-10T17:44:09.223051",
     "status": "completed"
    },
    "tags": []
   },
   "outputs": [],
   "source": [
    "rf2 = RandomForestClassifier()\n",
    "rf2.fit(X_train_over, y_train_over)\n",
    "rf2_ypred = rf2.predict(X_test)"
   ]
  },
  {
   "cell_type": "code",
   "execution_count": 18,
   "id": "cc40e115",
   "metadata": {
    "execution": {
     "iopub.execute_input": "2022-04-10T17:51:10.690097Z",
     "iopub.status.busy": "2022-04-10T17:51:10.688952Z",
     "iopub.status.idle": "2022-04-10T17:51:10.749908Z",
     "shell.execute_reply": "2022-04-10T17:51:10.750462Z",
     "shell.execute_reply.started": "2022-04-10T15:44:03.908563Z"
    },
    "papermill": {
     "duration": 0.113343,
     "end_time": "2022-04-10T17:51:10.750666",
     "exception": false,
     "start_time": "2022-04-10T17:51:10.637323",
     "status": "completed"
    },
    "tags": []
   },
   "outputs": [
    {
     "name": "stdout",
     "output_type": "stream",
     "text": [
      "              precision    recall  f1-score   support\n",
      "\n",
      "           0       1.00      1.00      1.00     56864\n",
      "           1       0.83      0.87      0.85        98\n",
      "\n",
      "    accuracy                           1.00     56962\n",
      "   macro avg       0.91      0.93      0.92     56962\n",
      "weighted avg       1.00      1.00      1.00     56962\n",
      "\n"
     ]
    }
   ],
   "source": [
    "print(classification_report(y_test, rf2_ypred))"
   ]
  },
  {
   "cell_type": "markdown",
   "id": "818ee7e4",
   "metadata": {
    "papermill": {
     "duration": 0.047225,
     "end_time": "2022-04-10T17:51:10.847257",
     "exception": false,
     "start_time": "2022-04-10T17:51:10.800032",
     "status": "completed"
    },
    "tags": []
   },
   "source": [
    "# Undersampling"
   ]
  },
  {
   "cell_type": "code",
   "execution_count": 19,
   "id": "df444aae",
   "metadata": {
    "execution": {
     "iopub.execute_input": "2022-04-10T17:51:10.947682Z",
     "iopub.status.busy": "2022-04-10T17:51:10.946493Z",
     "iopub.status.idle": "2022-04-10T17:51:10.949250Z",
     "shell.execute_reply": "2022-04-10T17:51:10.948629Z",
     "shell.execute_reply.started": "2022-04-10T15:44:03.974411Z"
    },
    "papermill": {
     "duration": 0.054566,
     "end_time": "2022-04-10T17:51:10.949391",
     "exception": false,
     "start_time": "2022-04-10T17:51:10.894825",
     "status": "completed"
    },
    "tags": []
   },
   "outputs": [],
   "source": [
    "from imblearn.under_sampling import RandomUnderSampler"
   ]
  },
  {
   "cell_type": "code",
   "execution_count": 20,
   "id": "fbde56c1",
   "metadata": {
    "execution": {
     "iopub.execute_input": "2022-04-10T17:51:11.051326Z",
     "iopub.status.busy": "2022-04-10T17:51:11.050333Z",
     "iopub.status.idle": "2022-04-10T17:51:11.123172Z",
     "shell.execute_reply": "2022-04-10T17:51:11.123726Z",
     "shell.execute_reply.started": "2022-04-10T15:44:03.979961Z"
    },
    "papermill": {
     "duration": 0.125042,
     "end_time": "2022-04-10T17:51:11.123896",
     "exception": false,
     "start_time": "2022-04-10T17:51:10.998854",
     "status": "completed"
    },
    "tags": []
   },
   "outputs": [],
   "source": [
    "rus = RandomUnderSampler(random_state=1)\n",
    "X_train_un, y_train_un = rus.fit_resample(X_train, y_train)"
   ]
  },
  {
   "cell_type": "code",
   "execution_count": 21,
   "id": "1cee728d",
   "metadata": {
    "execution": {
     "iopub.execute_input": "2022-04-10T17:51:11.228838Z",
     "iopub.status.busy": "2022-04-10T17:51:11.228132Z",
     "iopub.status.idle": "2022-04-10T17:51:11.230688Z",
     "shell.execute_reply": "2022-04-10T17:51:11.231155Z",
     "shell.execute_reply.started": "2022-04-10T15:44:04.044692Z"
    },
    "papermill": {
     "duration": 0.058131,
     "end_time": "2022-04-10T17:51:11.231312",
     "exception": false,
     "start_time": "2022-04-10T17:51:11.173181",
     "status": "completed"
    },
    "tags": []
   },
   "outputs": [
    {
     "data": {
      "text/plain": [
       "0    394\n",
       "1    394\n",
       "Name: Class, dtype: int64"
      ]
     },
     "execution_count": 21,
     "metadata": {},
     "output_type": "execute_result"
    }
   ],
   "source": [
    "y_train_un.value_counts()"
   ]
  },
  {
   "cell_type": "code",
   "execution_count": 22,
   "id": "937ad0fb",
   "metadata": {
    "execution": {
     "iopub.execute_input": "2022-04-10T17:51:11.332198Z",
     "iopub.status.busy": "2022-04-10T17:51:11.331489Z",
     "iopub.status.idle": "2022-04-10T17:51:12.123442Z",
     "shell.execute_reply": "2022-04-10T17:51:12.122891Z",
     "shell.execute_reply.started": "2022-04-10T15:44:04.055032Z"
    },
    "papermill": {
     "duration": 0.844178,
     "end_time": "2022-04-10T17:51:12.123667",
     "exception": false,
     "start_time": "2022-04-10T17:51:11.279489",
     "status": "completed"
    },
    "tags": []
   },
   "outputs": [],
   "source": [
    "rf3 = RandomForestClassifier()\n",
    "rf3.fit(X_train_un, y_train_un)\n",
    "rf3_ypred = rf3.predict(X_test)"
   ]
  },
  {
   "cell_type": "code",
   "execution_count": 23,
   "id": "85b2a0ae",
   "metadata": {
    "execution": {
     "iopub.execute_input": "2022-04-10T17:51:12.225160Z",
     "iopub.status.busy": "2022-04-10T17:51:12.224416Z",
     "iopub.status.idle": "2022-04-10T17:51:12.311754Z",
     "shell.execute_reply": "2022-04-10T17:51:12.310911Z",
     "shell.execute_reply.started": "2022-04-10T15:44:04.796329Z"
    },
    "papermill": {
     "duration": 0.138585,
     "end_time": "2022-04-10T17:51:12.311950",
     "exception": false,
     "start_time": "2022-04-10T17:51:12.173365",
     "status": "completed"
    },
    "tags": []
   },
   "outputs": [
    {
     "name": "stdout",
     "output_type": "stream",
     "text": [
      "              precision    recall  f1-score   support\n",
      "\n",
      "           0       1.00      0.98      0.99     56864\n",
      "           1       0.06      0.93      0.11        98\n",
      "\n",
      "    accuracy                           0.98     56962\n",
      "   macro avg       0.53      0.95      0.55     56962\n",
      "weighted avg       1.00      0.98      0.99     56962\n",
      "\n"
     ]
    }
   ],
   "source": [
    "print(classification_report(y_test, rf3_ypred))"
   ]
  },
  {
   "cell_type": "code",
   "execution_count": 24,
   "id": "a6a33b6d",
   "metadata": {
    "execution": {
     "iopub.execute_input": "2022-04-10T17:51:12.425945Z",
     "iopub.status.busy": "2022-04-10T17:51:12.425277Z",
     "iopub.status.idle": "2022-04-10T17:51:12.443137Z",
     "shell.execute_reply": "2022-04-10T17:51:12.443646Z",
     "shell.execute_reply.started": "2022-04-10T16:29:05.417452Z"
    },
    "papermill": {
     "duration": 0.077438,
     "end_time": "2022-04-10T17:51:12.443825",
     "exception": false,
     "start_time": "2022-04-10T17:51:12.366387",
     "status": "completed"
    },
    "tags": []
   },
   "outputs": [
    {
     "name": "stdout",
     "output_type": "stream",
     "text": [
      "[[55462  1402]\n",
      " [    7    91]]\n"
     ]
    }
   ],
   "source": [
    "print(confusion_matrix(y_test,rf3_ypred))"
   ]
  },
  {
   "cell_type": "markdown",
   "id": "4386f30c",
   "metadata": {
    "papermill": {
     "duration": 0.058915,
     "end_time": "2022-04-10T17:51:12.555328",
     "exception": false,
     "start_time": "2022-04-10T17:51:12.496413",
     "status": "completed"
    },
    "tags": []
   },
   "source": [
    "# Class weightage"
   ]
  },
  {
   "cell_type": "code",
   "execution_count": 25,
   "id": "ec614216",
   "metadata": {
    "execution": {
     "iopub.execute_input": "2022-04-10T17:51:12.677618Z",
     "iopub.status.busy": "2022-04-10T17:51:12.676958Z",
     "iopub.status.idle": "2022-04-10T17:51:12.678757Z",
     "shell.execute_reply": "2022-04-10T17:51:12.679328Z",
     "shell.execute_reply.started": "2022-04-10T15:44:04.867026Z"
    },
    "papermill": {
     "duration": 0.062742,
     "end_time": "2022-04-10T17:51:12.679491",
     "exception": false,
     "start_time": "2022-04-10T17:51:12.616749",
     "status": "completed"
    },
    "tags": []
   },
   "outputs": [],
   "source": [
    "count_class_1 = y_train.value_counts()[0]\n",
    "count_class_2 = y_train.value_counts()[1]\n",
    "ratio = count_class_1/count_class_2\n",
    "rf4 = RandomForestClassifier(class_weight={1:ratio, 0:1})"
   ]
  },
  {
   "cell_type": "code",
   "execution_count": 26,
   "id": "218f6337",
   "metadata": {
    "execution": {
     "iopub.execute_input": "2022-04-10T17:51:12.780673Z",
     "iopub.status.busy": "2022-04-10T17:51:12.780014Z",
     "iopub.status.idle": "2022-04-10T17:53:23.476806Z",
     "shell.execute_reply": "2022-04-10T17:53:23.476074Z",
     "shell.execute_reply.started": "2022-04-10T15:44:04.879021Z"
    },
    "papermill": {
     "duration": 130.749071,
     "end_time": "2022-04-10T17:53:23.476967",
     "exception": false,
     "start_time": "2022-04-10T17:51:12.727896",
     "status": "completed"
    },
    "tags": []
   },
   "outputs": [],
   "source": [
    "rf4.fit(X_train, y_train)\n",
    "rf4_ypred = rf4.predict(X_test)"
   ]
  },
  {
   "cell_type": "code",
   "execution_count": 27,
   "id": "8a70c5fb",
   "metadata": {
    "execution": {
     "iopub.execute_input": "2022-04-10T17:53:23.582576Z",
     "iopub.status.busy": "2022-04-10T17:53:23.581617Z",
     "iopub.status.idle": "2022-04-10T17:53:23.645639Z",
     "shell.execute_reply": "2022-04-10T17:53:23.644621Z",
     "shell.execute_reply.started": "2022-04-10T15:46:15.050791Z"
    },
    "papermill": {
     "duration": 0.118656,
     "end_time": "2022-04-10T17:53:23.645903",
     "exception": false,
     "start_time": "2022-04-10T17:53:23.527247",
     "status": "completed"
    },
    "tags": []
   },
   "outputs": [
    {
     "name": "stdout",
     "output_type": "stream",
     "text": [
      "              precision    recall  f1-score   support\n",
      "\n",
      "           0       1.00      1.00      1.00     56864\n",
      "           1       0.91      0.85      0.88        98\n",
      "\n",
      "    accuracy                           1.00     56962\n",
      "   macro avg       0.96      0.92      0.94     56962\n",
      "weighted avg       1.00      1.00      1.00     56962\n",
      "\n"
     ]
    }
   ],
   "source": [
    "print(classification_report(y_test,rf4_ypred))"
   ]
  },
  {
   "cell_type": "code",
   "execution_count": 28,
   "id": "281a2cd5",
   "metadata": {
    "execution": {
     "iopub.execute_input": "2022-04-10T17:53:23.751732Z",
     "iopub.status.busy": "2022-04-10T17:53:23.751015Z",
     "iopub.status.idle": "2022-04-10T17:53:23.762020Z",
     "shell.execute_reply": "2022-04-10T17:53:23.762527Z",
     "shell.execute_reply.started": "2022-04-10T16:28:18.956719Z"
    },
    "papermill": {
     "duration": 0.065682,
     "end_time": "2022-04-10T17:53:23.762743",
     "exception": false,
     "start_time": "2022-04-10T17:53:23.697061",
     "status": "completed"
    },
    "tags": []
   },
   "outputs": [
    {
     "name": "stdout",
     "output_type": "stream",
     "text": [
      "[[56856     8]\n",
      " [   15    83]]\n"
     ]
    }
   ],
   "source": [
    "print(confusion_matrix(y_test,rf4_ypred))"
   ]
  },
  {
   "cell_type": "code",
   "execution_count": 29,
   "id": "55b070f1",
   "metadata": {
    "execution": {
     "iopub.execute_input": "2022-04-10T17:53:23.872213Z",
     "iopub.status.busy": "2022-04-10T17:53:23.871412Z",
     "iopub.status.idle": "2022-04-10T17:53:23.875197Z",
     "shell.execute_reply": "2022-04-10T17:53:23.875784Z",
     "shell.execute_reply.started": "2022-04-10T17:06:50.709923Z"
    },
    "papermill": {
     "duration": 0.063644,
     "end_time": "2022-04-10T17:53:23.875959",
     "exception": false,
     "start_time": "2022-04-10T17:53:23.812315",
     "status": "completed"
    },
    "tags": []
   },
   "outputs": [],
   "source": [
    "from sklearn.metrics import precision_recall_fscore_support, accuracy_score,balanced_accuracy_score"
   ]
  },
  {
   "cell_type": "code",
   "execution_count": 30,
   "id": "087d6c09",
   "metadata": {
    "execution": {
     "iopub.execute_input": "2022-04-10T17:53:24.032136Z",
     "iopub.status.busy": "2022-04-10T17:53:24.031160Z",
     "iopub.status.idle": "2022-04-10T17:53:24.058705Z",
     "shell.execute_reply": "2022-04-10T17:53:24.059434Z",
     "shell.execute_reply.started": "2022-04-10T17:05:06.676662Z"
    },
    "papermill": {
     "duration": 0.110005,
     "end_time": "2022-04-10T17:53:24.059692",
     "exception": false,
     "start_time": "2022-04-10T17:53:23.949687",
     "status": "completed"
    },
    "tags": []
   },
   "outputs": [],
   "source": [
    "acc=[]\n",
    "acc.append(accuracy_score(y_test, rf_ypred))\n",
    "acc.append(accuracy_score(y_test, rf2_ypred))\n",
    "acc.append(accuracy_score(y_test, rf3_ypred))\n",
    "acc.append(accuracy_score(y_test, rf4_ypred))"
   ]
  },
  {
   "cell_type": "code",
   "execution_count": 31,
   "id": "48bd6631",
   "metadata": {
    "execution": {
     "iopub.execute_input": "2022-04-10T17:53:24.170793Z",
     "iopub.status.busy": "2022-04-10T17:53:24.169859Z",
     "iopub.status.idle": "2022-04-10T17:53:24.210019Z",
     "shell.execute_reply": "2022-04-10T17:53:24.208843Z",
     "shell.execute_reply.started": "2022-04-10T17:07:00.474806Z"
    },
    "papermill": {
     "duration": 0.095957,
     "end_time": "2022-04-10T17:53:24.210257",
     "exception": false,
     "start_time": "2022-04-10T17:53:24.114300",
     "status": "completed"
    },
    "tags": []
   },
   "outputs": [],
   "source": [
    "bacc=[]  #average of recall obtained on each class\n",
    "bacc.append(balanced_accuracy_score(y_test, rf_ypred))\n",
    "bacc.append(balanced_accuracy_score(y_test, rf2_ypred))\n",
    "bacc.append(balanced_accuracy_score(y_test, rf3_ypred))\n",
    "bacc.append(balanced_accuracy_score(y_test, rf4_ypred))"
   ]
  },
  {
   "cell_type": "code",
   "execution_count": 32,
   "id": "dcad977b",
   "metadata": {
    "execution": {
     "iopub.execute_input": "2022-04-10T17:53:24.328915Z",
     "iopub.status.busy": "2022-04-10T17:53:24.327919Z",
     "iopub.status.idle": "2022-04-10T17:53:24.387145Z",
     "shell.execute_reply": "2022-04-10T17:53:24.387704Z",
     "shell.execute_reply.started": "2022-04-10T17:22:16.313398Z"
    },
    "papermill": {
     "duration": 0.112535,
     "end_time": "2022-04-10T17:53:24.387877",
     "exception": false,
     "start_time": "2022-04-10T17:53:24.275342",
     "status": "completed"
    },
    "tags": []
   },
   "outputs": [],
   "source": [
    "rfm = precision_recall_fscore_support(y_test, rf_ypred, average='macro')\n",
    "rfm2 = precision_recall_fscore_support(y_test, rf2_ypred, average='macro')\n",
    "rfm3 = precision_recall_fscore_support(y_test, rf3_ypred, average='macro')\n",
    "rfm4 = precision_recall_fscore_support(y_test, rf4_ypred, average='macro')\n"
   ]
  },
  {
   "cell_type": "code",
   "execution_count": 33,
   "id": "57bbc01f",
   "metadata": {
    "execution": {
     "iopub.execute_input": "2022-04-10T17:53:24.499031Z",
     "iopub.status.busy": "2022-04-10T17:53:24.497875Z",
     "iopub.status.idle": "2022-04-10T17:53:24.499928Z",
     "shell.execute_reply": "2022-04-10T17:53:24.500540Z",
     "shell.execute_reply.started": "2022-04-10T17:22:31.418919Z"
    },
    "papermill": {
     "duration": 0.060495,
     "end_time": "2022-04-10T17:53:24.500742",
     "exception": false,
     "start_time": "2022-04-10T17:53:24.440247",
     "status": "completed"
    },
    "tags": []
   },
   "outputs": [],
   "source": [
    "precision = [rfm[0],rfm2[0],rfm3[0],rfm4[0]]\n",
    "recall = [rfm[1],rfm2[1],rfm3[1],rfm4[1]]\n",
    "f1 = [rfm[2],rfm2[2],rfm3[2],rfm4[2]]\n",
    "f1 = [rfm[2],rfm2[2],rfm3[2],rfm4[2]]\n"
   ]
  },
  {
   "cell_type": "code",
   "execution_count": 34,
   "id": "4f036eff",
   "metadata": {
    "execution": {
     "iopub.execute_input": "2022-04-10T17:53:24.604196Z",
     "iopub.status.busy": "2022-04-10T17:53:24.603214Z",
     "iopub.status.idle": "2022-04-10T17:53:24.609312Z",
     "shell.execute_reply": "2022-04-10T17:53:24.609917Z",
     "shell.execute_reply.started": "2022-04-10T17:22:32.686189Z"
    },
    "papermill": {
     "duration": 0.059576,
     "end_time": "2022-04-10T17:53:24.610103",
     "exception": false,
     "start_time": "2022-04-10T17:53:24.550527",
     "status": "completed"
    },
    "tags": []
   },
   "outputs": [],
   "source": [
    "metrics = pd.DataFrame()\n",
    "metrics['Models'] = ['Unbalanced','SMOTE','Undersampling','ClassWeightage']\n"
   ]
  },
  {
   "cell_type": "code",
   "execution_count": 35,
   "id": "c811a808",
   "metadata": {
    "execution": {
     "iopub.execute_input": "2022-04-10T17:53:24.715563Z",
     "iopub.status.busy": "2022-04-10T17:53:24.714608Z",
     "iopub.status.idle": "2022-04-10T17:53:24.729564Z",
     "shell.execute_reply": "2022-04-10T17:53:24.730235Z",
     "shell.execute_reply.started": "2022-04-10T17:22:33.354493Z"
    },
    "papermill": {
     "duration": 0.068964,
     "end_time": "2022-04-10T17:53:24.730410",
     "exception": false,
     "start_time": "2022-04-10T17:53:24.661446",
     "status": "completed"
    },
    "tags": []
   },
   "outputs": [
    {
     "data": {
      "text/html": [
       "<div>\n",
       "<style scoped>\n",
       "    .dataframe tbody tr th:only-of-type {\n",
       "        vertical-align: middle;\n",
       "    }\n",
       "\n",
       "    .dataframe tbody tr th {\n",
       "        vertical-align: top;\n",
       "    }\n",
       "\n",
       "    .dataframe thead th {\n",
       "        text-align: right;\n",
       "    }\n",
       "</style>\n",
       "<table border=\"1\" class=\"dataframe\">\n",
       "  <thead>\n",
       "    <tr style=\"text-align: right;\">\n",
       "      <th></th>\n",
       "      <th>Models</th>\n",
       "      <th>Precision</th>\n",
       "      <th>Recall</th>\n",
       "      <th>F1score</th>\n",
       "      <th>Accuracy</th>\n",
       "      <th>balanced_accuracy_score</th>\n",
       "    </tr>\n",
       "  </thead>\n",
       "  <tbody>\n",
       "    <tr>\n",
       "      <th>0</th>\n",
       "      <td>Unbalanced</td>\n",
       "      <td>0.953313</td>\n",
       "      <td>0.897889</td>\n",
       "      <td>0.923790</td>\n",
       "      <td>0.999508</td>\n",
       "      <td>0.897889</td>\n",
       "    </tr>\n",
       "    <tr>\n",
       "      <th>1</th>\n",
       "      <td>SMOTE</td>\n",
       "      <td>0.912507</td>\n",
       "      <td>0.933515</td>\n",
       "      <td>0.922749</td>\n",
       "      <td>0.999456</td>\n",
       "      <td>0.933515</td>\n",
       "    </tr>\n",
       "    <tr>\n",
       "      <th>2</th>\n",
       "      <td>Undersampling</td>\n",
       "      <td>0.530412</td>\n",
       "      <td>0.951958</td>\n",
       "      <td>0.550925</td>\n",
       "      <td>0.975264</td>\n",
       "      <td>0.951958</td>\n",
       "    </tr>\n",
       "    <tr>\n",
       "      <th>3</th>\n",
       "      <td>ClassWeightage</td>\n",
       "      <td>0.955912</td>\n",
       "      <td>0.923399</td>\n",
       "      <td>0.939052</td>\n",
       "      <td>0.999596</td>\n",
       "      <td>0.923399</td>\n",
       "    </tr>\n",
       "  </tbody>\n",
       "</table>\n",
       "</div>"
      ],
      "text/plain": [
       "           Models  Precision    Recall   F1score  Accuracy  \\\n",
       "0      Unbalanced   0.953313  0.897889  0.923790  0.999508   \n",
       "1           SMOTE   0.912507  0.933515  0.922749  0.999456   \n",
       "2   Undersampling   0.530412  0.951958  0.550925  0.975264   \n",
       "3  ClassWeightage   0.955912  0.923399  0.939052  0.999596   \n",
       "\n",
       "   balanced_accuracy_score  \n",
       "0                 0.897889  \n",
       "1                 0.933515  \n",
       "2                 0.951958  \n",
       "3                 0.923399  "
      ]
     },
     "execution_count": 35,
     "metadata": {},
     "output_type": "execute_result"
    }
   ],
   "source": [
    "metrics['Precision'] = precision\n",
    "metrics['Recall'] = recall\n",
    "metrics['F1score'] = f1\n",
    "metrics['Accuracy'] = acc\n",
    "metrics['balanced_accuracy_score'] = bacc\n",
    "metrics"
   ]
  },
  {
   "cell_type": "code",
   "execution_count": 36,
   "id": "f9f9ee56",
   "metadata": {
    "execution": {
     "iopub.execute_input": "2022-04-10T17:53:24.837634Z",
     "iopub.status.busy": "2022-04-10T17:53:24.836935Z",
     "iopub.status.idle": "2022-04-10T17:53:26.137279Z",
     "shell.execute_reply": "2022-04-10T17:53:26.136228Z",
     "shell.execute_reply.started": "2022-04-10T17:22:34.046318Z"
    },
    "papermill": {
     "duration": 1.354578,
     "end_time": "2022-04-10T17:53:26.137441",
     "exception": false,
     "start_time": "2022-04-10T17:53:24.782863",
     "status": "completed"
    },
    "tags": []
   },
   "outputs": [],
   "source": [
    "import plotly.express as px"
   ]
  },
  {
   "cell_type": "code",
   "execution_count": 37,
   "id": "92fe2eac",
   "metadata": {
    "execution": {
     "iopub.execute_input": "2022-04-10T17:53:26.242015Z",
     "iopub.status.busy": "2022-04-10T17:53:26.241138Z",
     "iopub.status.idle": "2022-04-10T17:53:26.256545Z",
     "shell.execute_reply": "2022-04-10T17:53:26.257016Z",
     "shell.execute_reply.started": "2022-04-10T17:22:35.228198Z"
    },
    "papermill": {
     "duration": 0.068776,
     "end_time": "2022-04-10T17:53:26.257189",
     "exception": false,
     "start_time": "2022-04-10T17:53:26.188413",
     "status": "completed"
    },
    "tags": []
   },
   "outputs": [
    {
     "data": {
      "text/html": [
       "<div>\n",
       "<style scoped>\n",
       "    .dataframe tbody tr th:only-of-type {\n",
       "        vertical-align: middle;\n",
       "    }\n",
       "\n",
       "    .dataframe tbody tr th {\n",
       "        vertical-align: top;\n",
       "    }\n",
       "\n",
       "    .dataframe thead th {\n",
       "        text-align: right;\n",
       "    }\n",
       "</style>\n",
       "<table border=\"1\" class=\"dataframe\">\n",
       "  <thead>\n",
       "    <tr style=\"text-align: right;\">\n",
       "      <th></th>\n",
       "      <th>Models</th>\n",
       "      <th>metrics</th>\n",
       "      <th>value</th>\n",
       "    </tr>\n",
       "  </thead>\n",
       "  <tbody>\n",
       "    <tr>\n",
       "      <th>0</th>\n",
       "      <td>Unbalanced</td>\n",
       "      <td>Precision</td>\n",
       "      <td>0.953313</td>\n",
       "    </tr>\n",
       "    <tr>\n",
       "      <th>1</th>\n",
       "      <td>SMOTE</td>\n",
       "      <td>Precision</td>\n",
       "      <td>0.912507</td>\n",
       "    </tr>\n",
       "    <tr>\n",
       "      <th>2</th>\n",
       "      <td>Undersampling</td>\n",
       "      <td>Precision</td>\n",
       "      <td>0.530412</td>\n",
       "    </tr>\n",
       "    <tr>\n",
       "      <th>3</th>\n",
       "      <td>ClassWeightage</td>\n",
       "      <td>Precision</td>\n",
       "      <td>0.955912</td>\n",
       "    </tr>\n",
       "    <tr>\n",
       "      <th>4</th>\n",
       "      <td>Unbalanced</td>\n",
       "      <td>Recall</td>\n",
       "      <td>0.897889</td>\n",
       "    </tr>\n",
       "    <tr>\n",
       "      <th>5</th>\n",
       "      <td>SMOTE</td>\n",
       "      <td>Recall</td>\n",
       "      <td>0.933515</td>\n",
       "    </tr>\n",
       "    <tr>\n",
       "      <th>6</th>\n",
       "      <td>Undersampling</td>\n",
       "      <td>Recall</td>\n",
       "      <td>0.951958</td>\n",
       "    </tr>\n",
       "    <tr>\n",
       "      <th>7</th>\n",
       "      <td>ClassWeightage</td>\n",
       "      <td>Recall</td>\n",
       "      <td>0.923399</td>\n",
       "    </tr>\n",
       "    <tr>\n",
       "      <th>8</th>\n",
       "      <td>Unbalanced</td>\n",
       "      <td>F1score</td>\n",
       "      <td>0.923790</td>\n",
       "    </tr>\n",
       "    <tr>\n",
       "      <th>9</th>\n",
       "      <td>SMOTE</td>\n",
       "      <td>F1score</td>\n",
       "      <td>0.922749</td>\n",
       "    </tr>\n",
       "    <tr>\n",
       "      <th>10</th>\n",
       "      <td>Undersampling</td>\n",
       "      <td>F1score</td>\n",
       "      <td>0.550925</td>\n",
       "    </tr>\n",
       "    <tr>\n",
       "      <th>11</th>\n",
       "      <td>ClassWeightage</td>\n",
       "      <td>F1score</td>\n",
       "      <td>0.939052</td>\n",
       "    </tr>\n",
       "    <tr>\n",
       "      <th>12</th>\n",
       "      <td>Unbalanced</td>\n",
       "      <td>Accuracy</td>\n",
       "      <td>0.999508</td>\n",
       "    </tr>\n",
       "    <tr>\n",
       "      <th>13</th>\n",
       "      <td>SMOTE</td>\n",
       "      <td>Accuracy</td>\n",
       "      <td>0.999456</td>\n",
       "    </tr>\n",
       "    <tr>\n",
       "      <th>14</th>\n",
       "      <td>Undersampling</td>\n",
       "      <td>Accuracy</td>\n",
       "      <td>0.975264</td>\n",
       "    </tr>\n",
       "    <tr>\n",
       "      <th>15</th>\n",
       "      <td>ClassWeightage</td>\n",
       "      <td>Accuracy</td>\n",
       "      <td>0.999596</td>\n",
       "    </tr>\n",
       "    <tr>\n",
       "      <th>16</th>\n",
       "      <td>Unbalanced</td>\n",
       "      <td>balanced_accuracy_score</td>\n",
       "      <td>0.897889</td>\n",
       "    </tr>\n",
       "    <tr>\n",
       "      <th>17</th>\n",
       "      <td>SMOTE</td>\n",
       "      <td>balanced_accuracy_score</td>\n",
       "      <td>0.933515</td>\n",
       "    </tr>\n",
       "    <tr>\n",
       "      <th>18</th>\n",
       "      <td>Undersampling</td>\n",
       "      <td>balanced_accuracy_score</td>\n",
       "      <td>0.951958</td>\n",
       "    </tr>\n",
       "    <tr>\n",
       "      <th>19</th>\n",
       "      <td>ClassWeightage</td>\n",
       "      <td>balanced_accuracy_score</td>\n",
       "      <td>0.923399</td>\n",
       "    </tr>\n",
       "  </tbody>\n",
       "</table>\n",
       "</div>"
      ],
      "text/plain": [
       "            Models                  metrics     value\n",
       "0       Unbalanced                Precision  0.953313\n",
       "1            SMOTE                Precision  0.912507\n",
       "2    Undersampling                Precision  0.530412\n",
       "3   ClassWeightage                Precision  0.955912\n",
       "4       Unbalanced                   Recall  0.897889\n",
       "5            SMOTE                   Recall  0.933515\n",
       "6    Undersampling                   Recall  0.951958\n",
       "7   ClassWeightage                   Recall  0.923399\n",
       "8       Unbalanced                  F1score  0.923790\n",
       "9            SMOTE                  F1score  0.922749\n",
       "10   Undersampling                  F1score  0.550925\n",
       "11  ClassWeightage                  F1score  0.939052\n",
       "12      Unbalanced                 Accuracy  0.999508\n",
       "13           SMOTE                 Accuracy  0.999456\n",
       "14   Undersampling                 Accuracy  0.975264\n",
       "15  ClassWeightage                 Accuracy  0.999596\n",
       "16      Unbalanced  balanced_accuracy_score  0.897889\n",
       "17           SMOTE  balanced_accuracy_score  0.933515\n",
       "18   Undersampling  balanced_accuracy_score  0.951958\n",
       "19  ClassWeightage  balanced_accuracy_score  0.923399"
      ]
     },
     "execution_count": 37,
     "metadata": {},
     "output_type": "execute_result"
    }
   ],
   "source": [
    "metricsdf=pd.melt(metrics,id_vars=['Models'],var_name='metrics', value_name='value')\n",
    "metricsdf"
   ]
  },
  {
   "cell_type": "code",
   "execution_count": 38,
   "id": "e24b4ff7",
   "metadata": {
    "execution": {
     "iopub.execute_input": "2022-04-10T17:53:26.365094Z",
     "iopub.status.busy": "2022-04-10T17:53:26.364334Z",
     "iopub.status.idle": "2022-04-10T17:53:27.550828Z",
     "shell.execute_reply": "2022-04-10T17:53:27.550250Z",
     "shell.execute_reply.started": "2022-04-10T17:23:53.836795Z"
    },
    "papermill": {
     "duration": 1.243209,
     "end_time": "2022-04-10T17:53:27.550980",
     "exception": false,
     "start_time": "2022-04-10T17:53:26.307771",
     "status": "completed"
    },
    "tags": []
   },
   "outputs": [
    {
     "data": {
      "text/html": [
       "        <script type=\"text/javascript\">\n",
       "        window.PlotlyConfig = {MathJaxConfig: 'local'};\n",
       "        if (window.MathJax) {MathJax.Hub.Config({SVG: {font: \"STIX-Web\"}});}\n",
       "        if (typeof require !== 'undefined') {\n",
       "        require.undef(\"plotly\");\n",
       "        requirejs.config({\n",
       "            paths: {\n",
       "                'plotly': ['https://cdn.plot.ly/plotly-2.9.0.min']\n",
       "            }\n",
       "        });\n",
       "        require(['plotly'], function(Plotly) {\n",
       "            window._Plotly = Plotly;\n",
       "        });\n",
       "        }\n",
       "        </script>\n",
       "        "
      ]
     },
     "metadata": {},
     "output_type": "display_data"
    },
    {
     "data": {
      "text/html": [
       "<div>                            <div id=\"d4a2bd9d-343f-4583-bdcb-b0e895fc7315\" class=\"plotly-graph-div\" style=\"height:525px; width:100%;\"></div>            <script type=\"text/javascript\">                require([\"plotly\"], function(Plotly) {                    window.PLOTLYENV=window.PLOTLYENV || {};                                    if (document.getElementById(\"d4a2bd9d-343f-4583-bdcb-b0e895fc7315\")) {                    Plotly.newPlot(                        \"d4a2bd9d-343f-4583-bdcb-b0e895fc7315\",                        [{\"alignmentgroup\":\"True\",\"hovertemplate\":\"metrics=Precision<br>Models=%{x}<br>value=%{y}<extra></extra>\",\"legendgroup\":\"Precision\",\"marker\":{\"color\":\"#636efa\",\"pattern\":{\"shape\":\"\"}},\"name\":\"Precision\",\"offsetgroup\":\"Precision\",\"orientation\":\"v\",\"showlegend\":true,\"textposition\":\"auto\",\"x\":[\"Unbalanced\",\"SMOTE\",\"Undersampling\",\"ClassWeightage\"],\"xaxis\":\"x\",\"y\":[0.9533125510085587,0.9125070413492616,0.530412454271538,0.9559120786371933],\"yaxis\":\"y\",\"type\":\"bar\"},{\"alignmentgroup\":\"True\",\"hovertemplate\":\"metrics=Recall<br>Models=%{x}<br>value=%{y}<extra></extra>\",\"legendgroup\":\"Recall\",\"marker\":{\"color\":\"#EF553B\",\"pattern\":{\"shape\":\"\"}},\"name\":\"Recall\",\"offsetgroup\":\"Recall\",\"orientation\":\"v\",\"showlegend\":true,\"textposition\":\"auto\",\"x\":[\"Unbalanced\",\"SMOTE\",\"Undersampling\",\"ClassWeightage\"],\"xaxis\":\"x\",\"y\":[0.8978888403982865,0.9335151970185935,0.9519580553099124,0.9233990444799192],\"yaxis\":\"y\",\"type\":\"bar\"},{\"alignmentgroup\":\"True\",\"hovertemplate\":\"metrics=F1score<br>Models=%{x}<br>value=%{y}<extra></extra>\",\"legendgroup\":\"F1score\",\"marker\":{\"color\":\"#00cc96\",\"pattern\":{\"shape\":\"\"}},\"name\":\"F1score\",\"offsetgroup\":\"F1score\",\"orientation\":\"v\",\"showlegend\":true,\"textposition\":\"auto\",\"x\":[\"Unbalanced\",\"SMOTE\",\"Undersampling\",\"ClassWeightage\"],\"xaxis\":\"x\",\"y\":[0.9237899557342834,0.9227492760514409,0.5509251996523334,0.9390523269188589],\"yaxis\":\"y\",\"type\":\"bar\"},{\"alignmentgroup\":\"True\",\"hovertemplate\":\"metrics=Accuracy<br>Models=%{x}<br>value=%{y}<extra></extra>\",\"legendgroup\":\"Accuracy\",\"marker\":{\"color\":\"#ab63fa\",\"pattern\":{\"shape\":\"\"}},\"name\":\"Accuracy\",\"offsetgroup\":\"Accuracy\",\"orientation\":\"v\",\"showlegend\":true,\"textposition\":\"auto\",\"x\":[\"Unbalanced\",\"SMOTE\",\"Undersampling\",\"ClassWeightage\"],\"xaxis\":\"x\",\"y\":[0.9995084442259752,0.9994557775359011,0.9752642112285383,0.9995962220427653],\"yaxis\":\"y\",\"type\":\"bar\"},{\"alignmentgroup\":\"True\",\"hovertemplate\":\"metrics=balanced_accuracy_score<br>Models=%{x}<br>value=%{y}<extra></extra>\",\"legendgroup\":\"balanced_accuracy_score\",\"marker\":{\"color\":\"#FFA15A\",\"pattern\":{\"shape\":\"\"}},\"name\":\"balanced_accuracy_score\",\"offsetgroup\":\"balanced_accuracy_score\",\"orientation\":\"v\",\"showlegend\":true,\"textposition\":\"auto\",\"x\":[\"Unbalanced\",\"SMOTE\",\"Undersampling\",\"ClassWeightage\"],\"xaxis\":\"x\",\"y\":[0.8978888403982865,0.9335151970185935,0.9519580553099124,0.9233990444799192],\"yaxis\":\"y\",\"type\":\"bar\"}],                        {\"template\":{\"data\":{\"bar\":[{\"error_x\":{\"color\":\"#2a3f5f\"},\"error_y\":{\"color\":\"#2a3f5f\"},\"marker\":{\"line\":{\"color\":\"#E5ECF6\",\"width\":0.5},\"pattern\":{\"fillmode\":\"overlay\",\"size\":10,\"solidity\":0.2}},\"type\":\"bar\"}],\"barpolar\":[{\"marker\":{\"line\":{\"color\":\"#E5ECF6\",\"width\":0.5},\"pattern\":{\"fillmode\":\"overlay\",\"size\":10,\"solidity\":0.2}},\"type\":\"barpolar\"}],\"carpet\":[{\"aaxis\":{\"endlinecolor\":\"#2a3f5f\",\"gridcolor\":\"white\",\"linecolor\":\"white\",\"minorgridcolor\":\"white\",\"startlinecolor\":\"#2a3f5f\"},\"baxis\":{\"endlinecolor\":\"#2a3f5f\",\"gridcolor\":\"white\",\"linecolor\":\"white\",\"minorgridcolor\":\"white\",\"startlinecolor\":\"#2a3f5f\"},\"type\":\"carpet\"}],\"choropleth\":[{\"colorbar\":{\"outlinewidth\":0,\"ticks\":\"\"},\"type\":\"choropleth\"}],\"contour\":[{\"colorbar\":{\"outlinewidth\":0,\"ticks\":\"\"},\"colorscale\":[[0.0,\"#0d0887\"],[0.1111111111111111,\"#46039f\"],[0.2222222222222222,\"#7201a8\"],[0.3333333333333333,\"#9c179e\"],[0.4444444444444444,\"#bd3786\"],[0.5555555555555556,\"#d8576b\"],[0.6666666666666666,\"#ed7953\"],[0.7777777777777778,\"#fb9f3a\"],[0.8888888888888888,\"#fdca26\"],[1.0,\"#f0f921\"]],\"type\":\"contour\"}],\"contourcarpet\":[{\"colorbar\":{\"outlinewidth\":0,\"ticks\":\"\"},\"type\":\"contourcarpet\"}],\"heatmap\":[{\"colorbar\":{\"outlinewidth\":0,\"ticks\":\"\"},\"colorscale\":[[0.0,\"#0d0887\"],[0.1111111111111111,\"#46039f\"],[0.2222222222222222,\"#7201a8\"],[0.3333333333333333,\"#9c179e\"],[0.4444444444444444,\"#bd3786\"],[0.5555555555555556,\"#d8576b\"],[0.6666666666666666,\"#ed7953\"],[0.7777777777777778,\"#fb9f3a\"],[0.8888888888888888,\"#fdca26\"],[1.0,\"#f0f921\"]],\"type\":\"heatmap\"}],\"heatmapgl\":[{\"colorbar\":{\"outlinewidth\":0,\"ticks\":\"\"},\"colorscale\":[[0.0,\"#0d0887\"],[0.1111111111111111,\"#46039f\"],[0.2222222222222222,\"#7201a8\"],[0.3333333333333333,\"#9c179e\"],[0.4444444444444444,\"#bd3786\"],[0.5555555555555556,\"#d8576b\"],[0.6666666666666666,\"#ed7953\"],[0.7777777777777778,\"#fb9f3a\"],[0.8888888888888888,\"#fdca26\"],[1.0,\"#f0f921\"]],\"type\":\"heatmapgl\"}],\"histogram\":[{\"marker\":{\"pattern\":{\"fillmode\":\"overlay\",\"size\":10,\"solidity\":0.2}},\"type\":\"histogram\"}],\"histogram2d\":[{\"colorbar\":{\"outlinewidth\":0,\"ticks\":\"\"},\"colorscale\":[[0.0,\"#0d0887\"],[0.1111111111111111,\"#46039f\"],[0.2222222222222222,\"#7201a8\"],[0.3333333333333333,\"#9c179e\"],[0.4444444444444444,\"#bd3786\"],[0.5555555555555556,\"#d8576b\"],[0.6666666666666666,\"#ed7953\"],[0.7777777777777778,\"#fb9f3a\"],[0.8888888888888888,\"#fdca26\"],[1.0,\"#f0f921\"]],\"type\":\"histogram2d\"}],\"histogram2dcontour\":[{\"colorbar\":{\"outlinewidth\":0,\"ticks\":\"\"},\"colorscale\":[[0.0,\"#0d0887\"],[0.1111111111111111,\"#46039f\"],[0.2222222222222222,\"#7201a8\"],[0.3333333333333333,\"#9c179e\"],[0.4444444444444444,\"#bd3786\"],[0.5555555555555556,\"#d8576b\"],[0.6666666666666666,\"#ed7953\"],[0.7777777777777778,\"#fb9f3a\"],[0.8888888888888888,\"#fdca26\"],[1.0,\"#f0f921\"]],\"type\":\"histogram2dcontour\"}],\"mesh3d\":[{\"colorbar\":{\"outlinewidth\":0,\"ticks\":\"\"},\"type\":\"mesh3d\"}],\"parcoords\":[{\"line\":{\"colorbar\":{\"outlinewidth\":0,\"ticks\":\"\"}},\"type\":\"parcoords\"}],\"pie\":[{\"automargin\":true,\"type\":\"pie\"}],\"scatter\":[{\"marker\":{\"colorbar\":{\"outlinewidth\":0,\"ticks\":\"\"}},\"type\":\"scatter\"}],\"scatter3d\":[{\"line\":{\"colorbar\":{\"outlinewidth\":0,\"ticks\":\"\"}},\"marker\":{\"colorbar\":{\"outlinewidth\":0,\"ticks\":\"\"}},\"type\":\"scatter3d\"}],\"scattercarpet\":[{\"marker\":{\"colorbar\":{\"outlinewidth\":0,\"ticks\":\"\"}},\"type\":\"scattercarpet\"}],\"scattergeo\":[{\"marker\":{\"colorbar\":{\"outlinewidth\":0,\"ticks\":\"\"}},\"type\":\"scattergeo\"}],\"scattergl\":[{\"marker\":{\"colorbar\":{\"outlinewidth\":0,\"ticks\":\"\"}},\"type\":\"scattergl\"}],\"scattermapbox\":[{\"marker\":{\"colorbar\":{\"outlinewidth\":0,\"ticks\":\"\"}},\"type\":\"scattermapbox\"}],\"scatterpolar\":[{\"marker\":{\"colorbar\":{\"outlinewidth\":0,\"ticks\":\"\"}},\"type\":\"scatterpolar\"}],\"scatterpolargl\":[{\"marker\":{\"colorbar\":{\"outlinewidth\":0,\"ticks\":\"\"}},\"type\":\"scatterpolargl\"}],\"scatterternary\":[{\"marker\":{\"colorbar\":{\"outlinewidth\":0,\"ticks\":\"\"}},\"type\":\"scatterternary\"}],\"surface\":[{\"colorbar\":{\"outlinewidth\":0,\"ticks\":\"\"},\"colorscale\":[[0.0,\"#0d0887\"],[0.1111111111111111,\"#46039f\"],[0.2222222222222222,\"#7201a8\"],[0.3333333333333333,\"#9c179e\"],[0.4444444444444444,\"#bd3786\"],[0.5555555555555556,\"#d8576b\"],[0.6666666666666666,\"#ed7953\"],[0.7777777777777778,\"#fb9f3a\"],[0.8888888888888888,\"#fdca26\"],[1.0,\"#f0f921\"]],\"type\":\"surface\"}],\"table\":[{\"cells\":{\"fill\":{\"color\":\"#EBF0F8\"},\"line\":{\"color\":\"white\"}},\"header\":{\"fill\":{\"color\":\"#C8D4E3\"},\"line\":{\"color\":\"white\"}},\"type\":\"table\"}]},\"layout\":{\"annotationdefaults\":{\"arrowcolor\":\"#2a3f5f\",\"arrowhead\":0,\"arrowwidth\":1},\"autotypenumbers\":\"strict\",\"coloraxis\":{\"colorbar\":{\"outlinewidth\":0,\"ticks\":\"\"}},\"colorscale\":{\"diverging\":[[0,\"#8e0152\"],[0.1,\"#c51b7d\"],[0.2,\"#de77ae\"],[0.3,\"#f1b6da\"],[0.4,\"#fde0ef\"],[0.5,\"#f7f7f7\"],[0.6,\"#e6f5d0\"],[0.7,\"#b8e186\"],[0.8,\"#7fbc41\"],[0.9,\"#4d9221\"],[1,\"#276419\"]],\"sequential\":[[0.0,\"#0d0887\"],[0.1111111111111111,\"#46039f\"],[0.2222222222222222,\"#7201a8\"],[0.3333333333333333,\"#9c179e\"],[0.4444444444444444,\"#bd3786\"],[0.5555555555555556,\"#d8576b\"],[0.6666666666666666,\"#ed7953\"],[0.7777777777777778,\"#fb9f3a\"],[0.8888888888888888,\"#fdca26\"],[1.0,\"#f0f921\"]],\"sequentialminus\":[[0.0,\"#0d0887\"],[0.1111111111111111,\"#46039f\"],[0.2222222222222222,\"#7201a8\"],[0.3333333333333333,\"#9c179e\"],[0.4444444444444444,\"#bd3786\"],[0.5555555555555556,\"#d8576b\"],[0.6666666666666666,\"#ed7953\"],[0.7777777777777778,\"#fb9f3a\"],[0.8888888888888888,\"#fdca26\"],[1.0,\"#f0f921\"]]},\"colorway\":[\"#636efa\",\"#EF553B\",\"#00cc96\",\"#ab63fa\",\"#FFA15A\",\"#19d3f3\",\"#FF6692\",\"#B6E880\",\"#FF97FF\",\"#FECB52\"],\"font\":{\"color\":\"#2a3f5f\"},\"geo\":{\"bgcolor\":\"white\",\"lakecolor\":\"white\",\"landcolor\":\"#E5ECF6\",\"showlakes\":true,\"showland\":true,\"subunitcolor\":\"white\"},\"hoverlabel\":{\"align\":\"left\"},\"hovermode\":\"closest\",\"mapbox\":{\"style\":\"light\"},\"paper_bgcolor\":\"white\",\"plot_bgcolor\":\"#E5ECF6\",\"polar\":{\"angularaxis\":{\"gridcolor\":\"white\",\"linecolor\":\"white\",\"ticks\":\"\"},\"bgcolor\":\"#E5ECF6\",\"radialaxis\":{\"gridcolor\":\"white\",\"linecolor\":\"white\",\"ticks\":\"\"}},\"scene\":{\"xaxis\":{\"backgroundcolor\":\"#E5ECF6\",\"gridcolor\":\"white\",\"gridwidth\":2,\"linecolor\":\"white\",\"showbackground\":true,\"ticks\":\"\",\"zerolinecolor\":\"white\"},\"yaxis\":{\"backgroundcolor\":\"#E5ECF6\",\"gridcolor\":\"white\",\"gridwidth\":2,\"linecolor\":\"white\",\"showbackground\":true,\"ticks\":\"\",\"zerolinecolor\":\"white\"},\"zaxis\":{\"backgroundcolor\":\"#E5ECF6\",\"gridcolor\":\"white\",\"gridwidth\":2,\"linecolor\":\"white\",\"showbackground\":true,\"ticks\":\"\",\"zerolinecolor\":\"white\"}},\"shapedefaults\":{\"line\":{\"color\":\"#2a3f5f\"}},\"ternary\":{\"aaxis\":{\"gridcolor\":\"white\",\"linecolor\":\"white\",\"ticks\":\"\"},\"baxis\":{\"gridcolor\":\"white\",\"linecolor\":\"white\",\"ticks\":\"\"},\"bgcolor\":\"#E5ECF6\",\"caxis\":{\"gridcolor\":\"white\",\"linecolor\":\"white\",\"ticks\":\"\"}},\"title\":{\"x\":0.05},\"xaxis\":{\"automargin\":true,\"gridcolor\":\"white\",\"linecolor\":\"white\",\"ticks\":\"\",\"title\":{\"standoff\":15},\"zerolinecolor\":\"white\",\"zerolinewidth\":2},\"yaxis\":{\"automargin\":true,\"gridcolor\":\"white\",\"linecolor\":\"white\",\"ticks\":\"\",\"title\":{\"standoff\":15},\"zerolinecolor\":\"white\",\"zerolinewidth\":2}}},\"xaxis\":{\"anchor\":\"y\",\"domain\":[0.0,1.0],\"title\":{\"text\":\"Models\"}},\"yaxis\":{\"anchor\":\"x\",\"domain\":[0.0,1.0],\"title\":{\"text\":\"value\"}},\"legend\":{\"title\":{\"text\":\"metrics\"},\"tracegroupgap\":0},\"title\":{\"text\":\"A Grouped Bar Chart With Plotly Express in Python\"},\"barmode\":\"group\"},                        {\"responsive\": true}                    ).then(function(){\n",
       "                            \n",
       "var gd = document.getElementById('d4a2bd9d-343f-4583-bdcb-b0e895fc7315');\n",
       "var x = new MutationObserver(function (mutations, observer) {{\n",
       "        var display = window.getComputedStyle(gd).display;\n",
       "        if (!display || display === 'none') {{\n",
       "            console.log([gd, 'removed!']);\n",
       "            Plotly.purge(gd);\n",
       "            observer.disconnect();\n",
       "        }}\n",
       "}});\n",
       "\n",
       "// Listen for the removal of the full notebook cells\n",
       "var notebookContainer = gd.closest('#notebook-container');\n",
       "if (notebookContainer) {{\n",
       "    x.observe(notebookContainer, {childList: true});\n",
       "}}\n",
       "\n",
       "// Listen for the clearing of the current output cell\n",
       "var outputEl = gd.closest('.output');\n",
       "if (outputEl) {{\n",
       "    x.observe(outputEl, {childList: true});\n",
       "}}\n",
       "\n",
       "                        })                };                });            </script>        </div>"
      ]
     },
     "metadata": {},
     "output_type": "display_data"
    }
   ],
   "source": [
    "fig = px.bar(metricsdf, x=\"Models\", color=\"metrics\",\n",
    "             y='value',\n",
    "             title=\"A Grouped Bar Chart With Plotly Express in Python\",\n",
    "             barmode='group',\n",
    "             \n",
    "            )\n",
    "\n",
    "fig.show()"
   ]
  },
  {
   "cell_type": "code",
   "execution_count": 39,
   "id": "9ebafa76",
   "metadata": {
    "execution": {
     "iopub.execute_input": "2022-04-10T17:53:27.666401Z",
     "iopub.status.busy": "2022-04-10T17:53:27.665766Z",
     "iopub.status.idle": "2022-04-10T17:53:27.748110Z",
     "shell.execute_reply": "2022-04-10T17:53:27.747510Z",
     "shell.execute_reply.started": "2022-04-10T17:24:35.665579Z"
    },
    "papermill": {
     "duration": 0.143637,
     "end_time": "2022-04-10T17:53:27.748246",
     "exception": false,
     "start_time": "2022-04-10T17:53:27.604609",
     "status": "completed"
    },
    "tags": []
   },
   "outputs": [
    {
     "data": {
      "text/html": [
       "<div>                            <div id=\"92f9d987-c6ae-4d19-8a70-67dae8a4dfa6\" class=\"plotly-graph-div\" style=\"height:525px; width:100%;\"></div>            <script type=\"text/javascript\">                require([\"plotly\"], function(Plotly) {                    window.PLOTLYENV=window.PLOTLYENV || {};                                    if (document.getElementById(\"92f9d987-c6ae-4d19-8a70-67dae8a4dfa6\")) {                    Plotly.newPlot(                        \"92f9d987-c6ae-4d19-8a70-67dae8a4dfa6\",                        [{\"alignmentgroup\":\"True\",\"hovertemplate\":\"metrics=Precision<br>Models=%{x}<br>value=%{y}<extra></extra>\",\"legendgroup\":\"Precision\",\"marker\":{\"color\":\"#636efa\",\"pattern\":{\"shape\":\"\"}},\"name\":\"Precision\",\"offsetgroup\":\"Precision\",\"orientation\":\"v\",\"showlegend\":true,\"textposition\":\"auto\",\"x\":[\"Unbalanced\",\"SMOTE\",\"Undersampling\",\"ClassWeightage\"],\"xaxis\":\"x\",\"y\":[0.9533125510085587,0.9125070413492616,0.530412454271538,0.9559120786371933],\"yaxis\":\"y\",\"type\":\"bar\"},{\"alignmentgroup\":\"True\",\"hovertemplate\":\"metrics=Recall<br>Models=%{x}<br>value=%{y}<extra></extra>\",\"legendgroup\":\"Recall\",\"marker\":{\"color\":\"#EF553B\",\"pattern\":{\"shape\":\"\"}},\"name\":\"Recall\",\"offsetgroup\":\"Recall\",\"orientation\":\"v\",\"showlegend\":true,\"textposition\":\"auto\",\"x\":[\"Unbalanced\",\"SMOTE\",\"Undersampling\",\"ClassWeightage\"],\"xaxis\":\"x\",\"y\":[0.8978888403982865,0.9335151970185935,0.9519580553099124,0.9233990444799192],\"yaxis\":\"y\",\"type\":\"bar\"},{\"alignmentgroup\":\"True\",\"hovertemplate\":\"metrics=F1score<br>Models=%{x}<br>value=%{y}<extra></extra>\",\"legendgroup\":\"F1score\",\"marker\":{\"color\":\"#00cc96\",\"pattern\":{\"shape\":\"\"}},\"name\":\"F1score\",\"offsetgroup\":\"F1score\",\"orientation\":\"v\",\"showlegend\":true,\"textposition\":\"auto\",\"x\":[\"Unbalanced\",\"SMOTE\",\"Undersampling\",\"ClassWeightage\"],\"xaxis\":\"x\",\"y\":[0.9237899557342834,0.9227492760514409,0.5509251996523334,0.9390523269188589],\"yaxis\":\"y\",\"type\":\"bar\"},{\"alignmentgroup\":\"True\",\"hovertemplate\":\"metrics=Accuracy<br>Models=%{x}<br>value=%{y}<extra></extra>\",\"legendgroup\":\"Accuracy\",\"marker\":{\"color\":\"#ab63fa\",\"pattern\":{\"shape\":\"\"}},\"name\":\"Accuracy\",\"offsetgroup\":\"Accuracy\",\"orientation\":\"v\",\"showlegend\":true,\"textposition\":\"auto\",\"x\":[\"Unbalanced\",\"SMOTE\",\"Undersampling\",\"ClassWeightage\"],\"xaxis\":\"x\",\"y\":[0.9995084442259752,0.9994557775359011,0.9752642112285383,0.9995962220427653],\"yaxis\":\"y\",\"type\":\"bar\"},{\"alignmentgroup\":\"True\",\"hovertemplate\":\"metrics=balanced_accuracy_score<br>Models=%{x}<br>value=%{y}<extra></extra>\",\"legendgroup\":\"balanced_accuracy_score\",\"marker\":{\"color\":\"#FFA15A\",\"pattern\":{\"shape\":\"\"}},\"name\":\"balanced_accuracy_score\",\"offsetgroup\":\"balanced_accuracy_score\",\"orientation\":\"v\",\"showlegend\":true,\"textposition\":\"auto\",\"x\":[\"Unbalanced\",\"SMOTE\",\"Undersampling\",\"ClassWeightage\"],\"xaxis\":\"x\",\"y\":[0.8978888403982865,0.9335151970185935,0.9519580553099124,0.9233990444799192],\"yaxis\":\"y\",\"type\":\"bar\"}],                        {\"template\":{\"data\":{\"bar\":[{\"error_x\":{\"color\":\"#2a3f5f\"},\"error_y\":{\"color\":\"#2a3f5f\"},\"marker\":{\"line\":{\"color\":\"#E5ECF6\",\"width\":0.5},\"pattern\":{\"fillmode\":\"overlay\",\"size\":10,\"solidity\":0.2}},\"type\":\"bar\"}],\"barpolar\":[{\"marker\":{\"line\":{\"color\":\"#E5ECF6\",\"width\":0.5},\"pattern\":{\"fillmode\":\"overlay\",\"size\":10,\"solidity\":0.2}},\"type\":\"barpolar\"}],\"carpet\":[{\"aaxis\":{\"endlinecolor\":\"#2a3f5f\",\"gridcolor\":\"white\",\"linecolor\":\"white\",\"minorgridcolor\":\"white\",\"startlinecolor\":\"#2a3f5f\"},\"baxis\":{\"endlinecolor\":\"#2a3f5f\",\"gridcolor\":\"white\",\"linecolor\":\"white\",\"minorgridcolor\":\"white\",\"startlinecolor\":\"#2a3f5f\"},\"type\":\"carpet\"}],\"choropleth\":[{\"colorbar\":{\"outlinewidth\":0,\"ticks\":\"\"},\"type\":\"choropleth\"}],\"contour\":[{\"colorbar\":{\"outlinewidth\":0,\"ticks\":\"\"},\"colorscale\":[[0.0,\"#0d0887\"],[0.1111111111111111,\"#46039f\"],[0.2222222222222222,\"#7201a8\"],[0.3333333333333333,\"#9c179e\"],[0.4444444444444444,\"#bd3786\"],[0.5555555555555556,\"#d8576b\"],[0.6666666666666666,\"#ed7953\"],[0.7777777777777778,\"#fb9f3a\"],[0.8888888888888888,\"#fdca26\"],[1.0,\"#f0f921\"]],\"type\":\"contour\"}],\"contourcarpet\":[{\"colorbar\":{\"outlinewidth\":0,\"ticks\":\"\"},\"type\":\"contourcarpet\"}],\"heatmap\":[{\"colorbar\":{\"outlinewidth\":0,\"ticks\":\"\"},\"colorscale\":[[0.0,\"#0d0887\"],[0.1111111111111111,\"#46039f\"],[0.2222222222222222,\"#7201a8\"],[0.3333333333333333,\"#9c179e\"],[0.4444444444444444,\"#bd3786\"],[0.5555555555555556,\"#d8576b\"],[0.6666666666666666,\"#ed7953\"],[0.7777777777777778,\"#fb9f3a\"],[0.8888888888888888,\"#fdca26\"],[1.0,\"#f0f921\"]],\"type\":\"heatmap\"}],\"heatmapgl\":[{\"colorbar\":{\"outlinewidth\":0,\"ticks\":\"\"},\"colorscale\":[[0.0,\"#0d0887\"],[0.1111111111111111,\"#46039f\"],[0.2222222222222222,\"#7201a8\"],[0.3333333333333333,\"#9c179e\"],[0.4444444444444444,\"#bd3786\"],[0.5555555555555556,\"#d8576b\"],[0.6666666666666666,\"#ed7953\"],[0.7777777777777778,\"#fb9f3a\"],[0.8888888888888888,\"#fdca26\"],[1.0,\"#f0f921\"]],\"type\":\"heatmapgl\"}],\"histogram\":[{\"marker\":{\"pattern\":{\"fillmode\":\"overlay\",\"size\":10,\"solidity\":0.2}},\"type\":\"histogram\"}],\"histogram2d\":[{\"colorbar\":{\"outlinewidth\":0,\"ticks\":\"\"},\"colorscale\":[[0.0,\"#0d0887\"],[0.1111111111111111,\"#46039f\"],[0.2222222222222222,\"#7201a8\"],[0.3333333333333333,\"#9c179e\"],[0.4444444444444444,\"#bd3786\"],[0.5555555555555556,\"#d8576b\"],[0.6666666666666666,\"#ed7953\"],[0.7777777777777778,\"#fb9f3a\"],[0.8888888888888888,\"#fdca26\"],[1.0,\"#f0f921\"]],\"type\":\"histogram2d\"}],\"histogram2dcontour\":[{\"colorbar\":{\"outlinewidth\":0,\"ticks\":\"\"},\"colorscale\":[[0.0,\"#0d0887\"],[0.1111111111111111,\"#46039f\"],[0.2222222222222222,\"#7201a8\"],[0.3333333333333333,\"#9c179e\"],[0.4444444444444444,\"#bd3786\"],[0.5555555555555556,\"#d8576b\"],[0.6666666666666666,\"#ed7953\"],[0.7777777777777778,\"#fb9f3a\"],[0.8888888888888888,\"#fdca26\"],[1.0,\"#f0f921\"]],\"type\":\"histogram2dcontour\"}],\"mesh3d\":[{\"colorbar\":{\"outlinewidth\":0,\"ticks\":\"\"},\"type\":\"mesh3d\"}],\"parcoords\":[{\"line\":{\"colorbar\":{\"outlinewidth\":0,\"ticks\":\"\"}},\"type\":\"parcoords\"}],\"pie\":[{\"automargin\":true,\"type\":\"pie\"}],\"scatter\":[{\"marker\":{\"colorbar\":{\"outlinewidth\":0,\"ticks\":\"\"}},\"type\":\"scatter\"}],\"scatter3d\":[{\"line\":{\"colorbar\":{\"outlinewidth\":0,\"ticks\":\"\"}},\"marker\":{\"colorbar\":{\"outlinewidth\":0,\"ticks\":\"\"}},\"type\":\"scatter3d\"}],\"scattercarpet\":[{\"marker\":{\"colorbar\":{\"outlinewidth\":0,\"ticks\":\"\"}},\"type\":\"scattercarpet\"}],\"scattergeo\":[{\"marker\":{\"colorbar\":{\"outlinewidth\":0,\"ticks\":\"\"}},\"type\":\"scattergeo\"}],\"scattergl\":[{\"marker\":{\"colorbar\":{\"outlinewidth\":0,\"ticks\":\"\"}},\"type\":\"scattergl\"}],\"scattermapbox\":[{\"marker\":{\"colorbar\":{\"outlinewidth\":0,\"ticks\":\"\"}},\"type\":\"scattermapbox\"}],\"scatterpolar\":[{\"marker\":{\"colorbar\":{\"outlinewidth\":0,\"ticks\":\"\"}},\"type\":\"scatterpolar\"}],\"scatterpolargl\":[{\"marker\":{\"colorbar\":{\"outlinewidth\":0,\"ticks\":\"\"}},\"type\":\"scatterpolargl\"}],\"scatterternary\":[{\"marker\":{\"colorbar\":{\"outlinewidth\":0,\"ticks\":\"\"}},\"type\":\"scatterternary\"}],\"surface\":[{\"colorbar\":{\"outlinewidth\":0,\"ticks\":\"\"},\"colorscale\":[[0.0,\"#0d0887\"],[0.1111111111111111,\"#46039f\"],[0.2222222222222222,\"#7201a8\"],[0.3333333333333333,\"#9c179e\"],[0.4444444444444444,\"#bd3786\"],[0.5555555555555556,\"#d8576b\"],[0.6666666666666666,\"#ed7953\"],[0.7777777777777778,\"#fb9f3a\"],[0.8888888888888888,\"#fdca26\"],[1.0,\"#f0f921\"]],\"type\":\"surface\"}],\"table\":[{\"cells\":{\"fill\":{\"color\":\"#EBF0F8\"},\"line\":{\"color\":\"white\"}},\"header\":{\"fill\":{\"color\":\"#C8D4E3\"},\"line\":{\"color\":\"white\"}},\"type\":\"table\"}]},\"layout\":{\"annotationdefaults\":{\"arrowcolor\":\"#2a3f5f\",\"arrowhead\":0,\"arrowwidth\":1},\"autotypenumbers\":\"strict\",\"coloraxis\":{\"colorbar\":{\"outlinewidth\":0,\"ticks\":\"\"}},\"colorscale\":{\"diverging\":[[0,\"#8e0152\"],[0.1,\"#c51b7d\"],[0.2,\"#de77ae\"],[0.3,\"#f1b6da\"],[0.4,\"#fde0ef\"],[0.5,\"#f7f7f7\"],[0.6,\"#e6f5d0\"],[0.7,\"#b8e186\"],[0.8,\"#7fbc41\"],[0.9,\"#4d9221\"],[1,\"#276419\"]],\"sequential\":[[0.0,\"#0d0887\"],[0.1111111111111111,\"#46039f\"],[0.2222222222222222,\"#7201a8\"],[0.3333333333333333,\"#9c179e\"],[0.4444444444444444,\"#bd3786\"],[0.5555555555555556,\"#d8576b\"],[0.6666666666666666,\"#ed7953\"],[0.7777777777777778,\"#fb9f3a\"],[0.8888888888888888,\"#fdca26\"],[1.0,\"#f0f921\"]],\"sequentialminus\":[[0.0,\"#0d0887\"],[0.1111111111111111,\"#46039f\"],[0.2222222222222222,\"#7201a8\"],[0.3333333333333333,\"#9c179e\"],[0.4444444444444444,\"#bd3786\"],[0.5555555555555556,\"#d8576b\"],[0.6666666666666666,\"#ed7953\"],[0.7777777777777778,\"#fb9f3a\"],[0.8888888888888888,\"#fdca26\"],[1.0,\"#f0f921\"]]},\"colorway\":[\"#636efa\",\"#EF553B\",\"#00cc96\",\"#ab63fa\",\"#FFA15A\",\"#19d3f3\",\"#FF6692\",\"#B6E880\",\"#FF97FF\",\"#FECB52\"],\"font\":{\"color\":\"#2a3f5f\"},\"geo\":{\"bgcolor\":\"white\",\"lakecolor\":\"white\",\"landcolor\":\"#E5ECF6\",\"showlakes\":true,\"showland\":true,\"subunitcolor\":\"white\"},\"hoverlabel\":{\"align\":\"left\"},\"hovermode\":\"closest\",\"mapbox\":{\"style\":\"light\"},\"paper_bgcolor\":\"white\",\"plot_bgcolor\":\"#E5ECF6\",\"polar\":{\"angularaxis\":{\"gridcolor\":\"white\",\"linecolor\":\"white\",\"ticks\":\"\"},\"bgcolor\":\"#E5ECF6\",\"radialaxis\":{\"gridcolor\":\"white\",\"linecolor\":\"white\",\"ticks\":\"\"}},\"scene\":{\"xaxis\":{\"backgroundcolor\":\"#E5ECF6\",\"gridcolor\":\"white\",\"gridwidth\":2,\"linecolor\":\"white\",\"showbackground\":true,\"ticks\":\"\",\"zerolinecolor\":\"white\"},\"yaxis\":{\"backgroundcolor\":\"#E5ECF6\",\"gridcolor\":\"white\",\"gridwidth\":2,\"linecolor\":\"white\",\"showbackground\":true,\"ticks\":\"\",\"zerolinecolor\":\"white\"},\"zaxis\":{\"backgroundcolor\":\"#E5ECF6\",\"gridcolor\":\"white\",\"gridwidth\":2,\"linecolor\":\"white\",\"showbackground\":true,\"ticks\":\"\",\"zerolinecolor\":\"white\"}},\"shapedefaults\":{\"line\":{\"color\":\"#2a3f5f\"}},\"ternary\":{\"aaxis\":{\"gridcolor\":\"white\",\"linecolor\":\"white\",\"ticks\":\"\"},\"baxis\":{\"gridcolor\":\"white\",\"linecolor\":\"white\",\"ticks\":\"\"},\"bgcolor\":\"#E5ECF6\",\"caxis\":{\"gridcolor\":\"white\",\"linecolor\":\"white\",\"ticks\":\"\"}},\"title\":{\"x\":0.05},\"xaxis\":{\"automargin\":true,\"gridcolor\":\"white\",\"linecolor\":\"white\",\"ticks\":\"\",\"title\":{\"standoff\":15},\"zerolinecolor\":\"white\",\"zerolinewidth\":2},\"yaxis\":{\"automargin\":true,\"gridcolor\":\"white\",\"linecolor\":\"white\",\"ticks\":\"\",\"title\":{\"standoff\":15},\"zerolinecolor\":\"white\",\"zerolinewidth\":2}}},\"xaxis\":{\"anchor\":\"y\",\"domain\":[0.0,1.0],\"title\":{\"text\":\"Models\"}},\"yaxis\":{\"anchor\":\"x\",\"domain\":[0.0,1.0],\"title\":{\"text\":\"value\"}},\"legend\":{\"title\":{\"text\":\"metrics\"},\"tracegroupgap\":0},\"margin\":{\"t\":60},\"barmode\":\"relative\"},                        {\"responsive\": true}                    ).then(function(){\n",
       "                            \n",
       "var gd = document.getElementById('92f9d987-c6ae-4d19-8a70-67dae8a4dfa6');\n",
       "var x = new MutationObserver(function (mutations, observer) {{\n",
       "        var display = window.getComputedStyle(gd).display;\n",
       "        if (!display || display === 'none') {{\n",
       "            console.log([gd, 'removed!']);\n",
       "            Plotly.purge(gd);\n",
       "            observer.disconnect();\n",
       "        }}\n",
       "}});\n",
       "\n",
       "// Listen for the removal of the full notebook cells\n",
       "var notebookContainer = gd.closest('#notebook-container');\n",
       "if (notebookContainer) {{\n",
       "    x.observe(notebookContainer, {childList: true});\n",
       "}}\n",
       "\n",
       "// Listen for the clearing of the current output cell\n",
       "var outputEl = gd.closest('.output');\n",
       "if (outputEl) {{\n",
       "    x.observe(outputEl, {childList: true});\n",
       "}}\n",
       "\n",
       "                        })                };                });            </script>        </div>"
      ]
     },
     "metadata": {},
     "output_type": "display_data"
    }
   ],
   "source": [
    "fig = px.bar(metricsdf, x=\"Models\", color=\"metrics\",\n",
    "             y='value',\n",
    "             barmode='relative',\n",
    "            )\n",
    "fig.show()"
   ]
  },
  {
   "cell_type": "code",
   "execution_count": 40,
   "id": "07abbf32",
   "metadata": {
    "execution": {
     "iopub.execute_input": "2022-04-10T17:53:27.857840Z",
     "iopub.status.busy": "2022-04-10T17:53:27.857196Z",
     "iopub.status.idle": "2022-04-10T17:53:28.022131Z",
     "shell.execute_reply": "2022-04-10T17:53:28.021386Z",
     "shell.execute_reply.started": "2022-04-10T17:26:45.85637Z"
    },
    "papermill": {
     "duration": 0.221196,
     "end_time": "2022-04-10T17:53:28.022294",
     "exception": false,
     "start_time": "2022-04-10T17:53:27.801098",
     "status": "completed"
    },
    "tags": []
   },
   "outputs": [
    {
     "data": {
      "text/html": [
       "<div>                            <div id=\"59f6cd49-f11e-4151-8893-c29af815d189\" class=\"plotly-graph-div\" style=\"height:525px; width:100%;\"></div>            <script type=\"text/javascript\">                require([\"plotly\"], function(Plotly) {                    window.PLOTLYENV=window.PLOTLYENV || {};                                    if (document.getElementById(\"59f6cd49-f11e-4151-8893-c29af815d189\")) {                    Plotly.newPlot(                        \"59f6cd49-f11e-4151-8893-c29af815d189\",                        [{\"alignmentgroup\":\"True\",\"hovertemplate\":\"metrics=Precision<br>Models=%{x}<br>value=%{y}<extra></extra>\",\"legendgroup\":\"Precision\",\"marker\":{\"color\":\"#636efa\",\"pattern\":{\"shape\":\"\"}},\"name\":\"Precision\",\"offsetgroup\":\"Precision\",\"orientation\":\"v\",\"showlegend\":true,\"textposition\":\"auto\",\"x\":[\"Unbalanced\",\"SMOTE\",\"Undersampling\",\"ClassWeightage\"],\"xaxis\":\"x\",\"y\":[0.9533125510085587,0.9125070413492616,0.530412454271538,0.9559120786371933],\"yaxis\":\"y\",\"type\":\"bar\"},{\"alignmentgroup\":\"True\",\"hovertemplate\":\"metrics=Recall<br>Models=%{x}<br>value=%{y}<extra></extra>\",\"legendgroup\":\"Recall\",\"marker\":{\"color\":\"#EF553B\",\"pattern\":{\"shape\":\"\"}},\"name\":\"Recall\",\"offsetgroup\":\"Recall\",\"orientation\":\"v\",\"showlegend\":true,\"textposition\":\"auto\",\"x\":[\"Unbalanced\",\"SMOTE\",\"Undersampling\",\"ClassWeightage\"],\"xaxis\":\"x2\",\"y\":[0.8978888403982865,0.9335151970185935,0.9519580553099124,0.9233990444799192],\"yaxis\":\"y2\",\"type\":\"bar\"},{\"alignmentgroup\":\"True\",\"hovertemplate\":\"metrics=F1score<br>Models=%{x}<br>value=%{y}<extra></extra>\",\"legendgroup\":\"F1score\",\"marker\":{\"color\":\"#00cc96\",\"pattern\":{\"shape\":\"\"}},\"name\":\"F1score\",\"offsetgroup\":\"F1score\",\"orientation\":\"v\",\"showlegend\":true,\"textposition\":\"auto\",\"x\":[\"Unbalanced\",\"SMOTE\",\"Undersampling\",\"ClassWeightage\"],\"xaxis\":\"x3\",\"y\":[0.9237899557342834,0.9227492760514409,0.5509251996523334,0.9390523269188589],\"yaxis\":\"y3\",\"type\":\"bar\"},{\"alignmentgroup\":\"True\",\"hovertemplate\":\"metrics=Accuracy<br>Models=%{x}<br>value=%{y}<extra></extra>\",\"legendgroup\":\"Accuracy\",\"marker\":{\"color\":\"#ab63fa\",\"pattern\":{\"shape\":\"\"}},\"name\":\"Accuracy\",\"offsetgroup\":\"Accuracy\",\"orientation\":\"v\",\"showlegend\":true,\"textposition\":\"auto\",\"x\":[\"Unbalanced\",\"SMOTE\",\"Undersampling\",\"ClassWeightage\"],\"xaxis\":\"x4\",\"y\":[0.9995084442259752,0.9994557775359011,0.9752642112285383,0.9995962220427653],\"yaxis\":\"y4\",\"type\":\"bar\"},{\"alignmentgroup\":\"True\",\"hovertemplate\":\"metrics=balanced_accuracy_score<br>Models=%{x}<br>value=%{y}<extra></extra>\",\"legendgroup\":\"balanced_accuracy_score\",\"marker\":{\"color\":\"#FFA15A\",\"pattern\":{\"shape\":\"\"}},\"name\":\"balanced_accuracy_score\",\"offsetgroup\":\"balanced_accuracy_score\",\"orientation\":\"v\",\"showlegend\":true,\"textposition\":\"auto\",\"x\":[\"Unbalanced\",\"SMOTE\",\"Undersampling\",\"ClassWeightage\"],\"xaxis\":\"x5\",\"y\":[0.8978888403982865,0.9335151970185935,0.9519580553099124,0.9233990444799192],\"yaxis\":\"y5\",\"type\":\"bar\"}],                        {\"template\":{\"data\":{\"bar\":[{\"error_x\":{\"color\":\"#2a3f5f\"},\"error_y\":{\"color\":\"#2a3f5f\"},\"marker\":{\"line\":{\"color\":\"#E5ECF6\",\"width\":0.5},\"pattern\":{\"fillmode\":\"overlay\",\"size\":10,\"solidity\":0.2}},\"type\":\"bar\"}],\"barpolar\":[{\"marker\":{\"line\":{\"color\":\"#E5ECF6\",\"width\":0.5},\"pattern\":{\"fillmode\":\"overlay\",\"size\":10,\"solidity\":0.2}},\"type\":\"barpolar\"}],\"carpet\":[{\"aaxis\":{\"endlinecolor\":\"#2a3f5f\",\"gridcolor\":\"white\",\"linecolor\":\"white\",\"minorgridcolor\":\"white\",\"startlinecolor\":\"#2a3f5f\"},\"baxis\":{\"endlinecolor\":\"#2a3f5f\",\"gridcolor\":\"white\",\"linecolor\":\"white\",\"minorgridcolor\":\"white\",\"startlinecolor\":\"#2a3f5f\"},\"type\":\"carpet\"}],\"choropleth\":[{\"colorbar\":{\"outlinewidth\":0,\"ticks\":\"\"},\"type\":\"choropleth\"}],\"contour\":[{\"colorbar\":{\"outlinewidth\":0,\"ticks\":\"\"},\"colorscale\":[[0.0,\"#0d0887\"],[0.1111111111111111,\"#46039f\"],[0.2222222222222222,\"#7201a8\"],[0.3333333333333333,\"#9c179e\"],[0.4444444444444444,\"#bd3786\"],[0.5555555555555556,\"#d8576b\"],[0.6666666666666666,\"#ed7953\"],[0.7777777777777778,\"#fb9f3a\"],[0.8888888888888888,\"#fdca26\"],[1.0,\"#f0f921\"]],\"type\":\"contour\"}],\"contourcarpet\":[{\"colorbar\":{\"outlinewidth\":0,\"ticks\":\"\"},\"type\":\"contourcarpet\"}],\"heatmap\":[{\"colorbar\":{\"outlinewidth\":0,\"ticks\":\"\"},\"colorscale\":[[0.0,\"#0d0887\"],[0.1111111111111111,\"#46039f\"],[0.2222222222222222,\"#7201a8\"],[0.3333333333333333,\"#9c179e\"],[0.4444444444444444,\"#bd3786\"],[0.5555555555555556,\"#d8576b\"],[0.6666666666666666,\"#ed7953\"],[0.7777777777777778,\"#fb9f3a\"],[0.8888888888888888,\"#fdca26\"],[1.0,\"#f0f921\"]],\"type\":\"heatmap\"}],\"heatmapgl\":[{\"colorbar\":{\"outlinewidth\":0,\"ticks\":\"\"},\"colorscale\":[[0.0,\"#0d0887\"],[0.1111111111111111,\"#46039f\"],[0.2222222222222222,\"#7201a8\"],[0.3333333333333333,\"#9c179e\"],[0.4444444444444444,\"#bd3786\"],[0.5555555555555556,\"#d8576b\"],[0.6666666666666666,\"#ed7953\"],[0.7777777777777778,\"#fb9f3a\"],[0.8888888888888888,\"#fdca26\"],[1.0,\"#f0f921\"]],\"type\":\"heatmapgl\"}],\"histogram\":[{\"marker\":{\"pattern\":{\"fillmode\":\"overlay\",\"size\":10,\"solidity\":0.2}},\"type\":\"histogram\"}],\"histogram2d\":[{\"colorbar\":{\"outlinewidth\":0,\"ticks\":\"\"},\"colorscale\":[[0.0,\"#0d0887\"],[0.1111111111111111,\"#46039f\"],[0.2222222222222222,\"#7201a8\"],[0.3333333333333333,\"#9c179e\"],[0.4444444444444444,\"#bd3786\"],[0.5555555555555556,\"#d8576b\"],[0.6666666666666666,\"#ed7953\"],[0.7777777777777778,\"#fb9f3a\"],[0.8888888888888888,\"#fdca26\"],[1.0,\"#f0f921\"]],\"type\":\"histogram2d\"}],\"histogram2dcontour\":[{\"colorbar\":{\"outlinewidth\":0,\"ticks\":\"\"},\"colorscale\":[[0.0,\"#0d0887\"],[0.1111111111111111,\"#46039f\"],[0.2222222222222222,\"#7201a8\"],[0.3333333333333333,\"#9c179e\"],[0.4444444444444444,\"#bd3786\"],[0.5555555555555556,\"#d8576b\"],[0.6666666666666666,\"#ed7953\"],[0.7777777777777778,\"#fb9f3a\"],[0.8888888888888888,\"#fdca26\"],[1.0,\"#f0f921\"]],\"type\":\"histogram2dcontour\"}],\"mesh3d\":[{\"colorbar\":{\"outlinewidth\":0,\"ticks\":\"\"},\"type\":\"mesh3d\"}],\"parcoords\":[{\"line\":{\"colorbar\":{\"outlinewidth\":0,\"ticks\":\"\"}},\"type\":\"parcoords\"}],\"pie\":[{\"automargin\":true,\"type\":\"pie\"}],\"scatter\":[{\"marker\":{\"colorbar\":{\"outlinewidth\":0,\"ticks\":\"\"}},\"type\":\"scatter\"}],\"scatter3d\":[{\"line\":{\"colorbar\":{\"outlinewidth\":0,\"ticks\":\"\"}},\"marker\":{\"colorbar\":{\"outlinewidth\":0,\"ticks\":\"\"}},\"type\":\"scatter3d\"}],\"scattercarpet\":[{\"marker\":{\"colorbar\":{\"outlinewidth\":0,\"ticks\":\"\"}},\"type\":\"scattercarpet\"}],\"scattergeo\":[{\"marker\":{\"colorbar\":{\"outlinewidth\":0,\"ticks\":\"\"}},\"type\":\"scattergeo\"}],\"scattergl\":[{\"marker\":{\"colorbar\":{\"outlinewidth\":0,\"ticks\":\"\"}},\"type\":\"scattergl\"}],\"scattermapbox\":[{\"marker\":{\"colorbar\":{\"outlinewidth\":0,\"ticks\":\"\"}},\"type\":\"scattermapbox\"}],\"scatterpolar\":[{\"marker\":{\"colorbar\":{\"outlinewidth\":0,\"ticks\":\"\"}},\"type\":\"scatterpolar\"}],\"scatterpolargl\":[{\"marker\":{\"colorbar\":{\"outlinewidth\":0,\"ticks\":\"\"}},\"type\":\"scatterpolargl\"}],\"scatterternary\":[{\"marker\":{\"colorbar\":{\"outlinewidth\":0,\"ticks\":\"\"}},\"type\":\"scatterternary\"}],\"surface\":[{\"colorbar\":{\"outlinewidth\":0,\"ticks\":\"\"},\"colorscale\":[[0.0,\"#0d0887\"],[0.1111111111111111,\"#46039f\"],[0.2222222222222222,\"#7201a8\"],[0.3333333333333333,\"#9c179e\"],[0.4444444444444444,\"#bd3786\"],[0.5555555555555556,\"#d8576b\"],[0.6666666666666666,\"#ed7953\"],[0.7777777777777778,\"#fb9f3a\"],[0.8888888888888888,\"#fdca26\"],[1.0,\"#f0f921\"]],\"type\":\"surface\"}],\"table\":[{\"cells\":{\"fill\":{\"color\":\"#EBF0F8\"},\"line\":{\"color\":\"white\"}},\"header\":{\"fill\":{\"color\":\"#C8D4E3\"},\"line\":{\"color\":\"white\"}},\"type\":\"table\"}]},\"layout\":{\"annotationdefaults\":{\"arrowcolor\":\"#2a3f5f\",\"arrowhead\":0,\"arrowwidth\":1},\"autotypenumbers\":\"strict\",\"coloraxis\":{\"colorbar\":{\"outlinewidth\":0,\"ticks\":\"\"}},\"colorscale\":{\"diverging\":[[0,\"#8e0152\"],[0.1,\"#c51b7d\"],[0.2,\"#de77ae\"],[0.3,\"#f1b6da\"],[0.4,\"#fde0ef\"],[0.5,\"#f7f7f7\"],[0.6,\"#e6f5d0\"],[0.7,\"#b8e186\"],[0.8,\"#7fbc41\"],[0.9,\"#4d9221\"],[1,\"#276419\"]],\"sequential\":[[0.0,\"#0d0887\"],[0.1111111111111111,\"#46039f\"],[0.2222222222222222,\"#7201a8\"],[0.3333333333333333,\"#9c179e\"],[0.4444444444444444,\"#bd3786\"],[0.5555555555555556,\"#d8576b\"],[0.6666666666666666,\"#ed7953\"],[0.7777777777777778,\"#fb9f3a\"],[0.8888888888888888,\"#fdca26\"],[1.0,\"#f0f921\"]],\"sequentialminus\":[[0.0,\"#0d0887\"],[0.1111111111111111,\"#46039f\"],[0.2222222222222222,\"#7201a8\"],[0.3333333333333333,\"#9c179e\"],[0.4444444444444444,\"#bd3786\"],[0.5555555555555556,\"#d8576b\"],[0.6666666666666666,\"#ed7953\"],[0.7777777777777778,\"#fb9f3a\"],[0.8888888888888888,\"#fdca26\"],[1.0,\"#f0f921\"]]},\"colorway\":[\"#636efa\",\"#EF553B\",\"#00cc96\",\"#ab63fa\",\"#FFA15A\",\"#19d3f3\",\"#FF6692\",\"#B6E880\",\"#FF97FF\",\"#FECB52\"],\"font\":{\"color\":\"#2a3f5f\"},\"geo\":{\"bgcolor\":\"white\",\"lakecolor\":\"white\",\"landcolor\":\"#E5ECF6\",\"showlakes\":true,\"showland\":true,\"subunitcolor\":\"white\"},\"hoverlabel\":{\"align\":\"left\"},\"hovermode\":\"closest\",\"mapbox\":{\"style\":\"light\"},\"paper_bgcolor\":\"white\",\"plot_bgcolor\":\"#E5ECF6\",\"polar\":{\"angularaxis\":{\"gridcolor\":\"white\",\"linecolor\":\"white\",\"ticks\":\"\"},\"bgcolor\":\"#E5ECF6\",\"radialaxis\":{\"gridcolor\":\"white\",\"linecolor\":\"white\",\"ticks\":\"\"}},\"scene\":{\"xaxis\":{\"backgroundcolor\":\"#E5ECF6\",\"gridcolor\":\"white\",\"gridwidth\":2,\"linecolor\":\"white\",\"showbackground\":true,\"ticks\":\"\",\"zerolinecolor\":\"white\"},\"yaxis\":{\"backgroundcolor\":\"#E5ECF6\",\"gridcolor\":\"white\",\"gridwidth\":2,\"linecolor\":\"white\",\"showbackground\":true,\"ticks\":\"\",\"zerolinecolor\":\"white\"},\"zaxis\":{\"backgroundcolor\":\"#E5ECF6\",\"gridcolor\":\"white\",\"gridwidth\":2,\"linecolor\":\"white\",\"showbackground\":true,\"ticks\":\"\",\"zerolinecolor\":\"white\"}},\"shapedefaults\":{\"line\":{\"color\":\"#2a3f5f\"}},\"ternary\":{\"aaxis\":{\"gridcolor\":\"white\",\"linecolor\":\"white\",\"ticks\":\"\"},\"baxis\":{\"gridcolor\":\"white\",\"linecolor\":\"white\",\"ticks\":\"\"},\"bgcolor\":\"#E5ECF6\",\"caxis\":{\"gridcolor\":\"white\",\"linecolor\":\"white\",\"ticks\":\"\"}},\"title\":{\"x\":0.05},\"xaxis\":{\"automargin\":true,\"gridcolor\":\"white\",\"linecolor\":\"white\",\"ticks\":\"\",\"title\":{\"standoff\":15},\"zerolinecolor\":\"white\",\"zerolinewidth\":2},\"yaxis\":{\"automargin\":true,\"gridcolor\":\"white\",\"linecolor\":\"white\",\"ticks\":\"\",\"title\":{\"standoff\":15},\"zerolinecolor\":\"white\",\"zerolinewidth\":2}}},\"xaxis\":{\"anchor\":\"y\",\"domain\":[0.0,0.18400000000000002],\"title\":{\"text\":\"Models\"}},\"yaxis\":{\"anchor\":\"x\",\"domain\":[0.0,1.0],\"title\":{\"text\":\"value\"}},\"xaxis2\":{\"anchor\":\"y2\",\"domain\":[0.20400000000000001,0.388],\"matches\":\"x\",\"title\":{\"text\":\"Models\"}},\"yaxis2\":{\"anchor\":\"x2\",\"domain\":[0.0,1.0],\"matches\":\"y\",\"showticklabels\":false},\"xaxis3\":{\"anchor\":\"y3\",\"domain\":[0.40800000000000003,0.5920000000000001],\"matches\":\"x\",\"title\":{\"text\":\"Models\"}},\"yaxis3\":{\"anchor\":\"x3\",\"domain\":[0.0,1.0],\"matches\":\"y\",\"showticklabels\":false},\"xaxis4\":{\"anchor\":\"y4\",\"domain\":[0.6120000000000001,0.7960000000000002],\"matches\":\"x\",\"title\":{\"text\":\"Models\"}},\"yaxis4\":{\"anchor\":\"x4\",\"domain\":[0.0,1.0],\"matches\":\"y\",\"showticklabels\":false},\"xaxis5\":{\"anchor\":\"y5\",\"domain\":[0.8160000000000001,1.0],\"matches\":\"x\",\"title\":{\"text\":\"Models\"}},\"yaxis5\":{\"anchor\":\"x5\",\"domain\":[0.0,1.0],\"matches\":\"y\",\"showticklabels\":false},\"annotations\":[{\"font\":{},\"showarrow\":false,\"text\":\"metrics=Precision\",\"x\":0.09200000000000001,\"xanchor\":\"center\",\"xref\":\"paper\",\"y\":1.0,\"yanchor\":\"bottom\",\"yref\":\"paper\"},{\"font\":{},\"showarrow\":false,\"text\":\"metrics=Recall\",\"x\":0.29600000000000004,\"xanchor\":\"center\",\"xref\":\"paper\",\"y\":1.0,\"yanchor\":\"bottom\",\"yref\":\"paper\"},{\"font\":{},\"showarrow\":false,\"text\":\"metrics=F1score\",\"x\":0.5,\"xanchor\":\"center\",\"xref\":\"paper\",\"y\":1.0,\"yanchor\":\"bottom\",\"yref\":\"paper\"},{\"font\":{},\"showarrow\":false,\"text\":\"metrics=Accuracy\",\"x\":0.7040000000000002,\"xanchor\":\"center\",\"xref\":\"paper\",\"y\":1.0,\"yanchor\":\"bottom\",\"yref\":\"paper\"},{\"font\":{},\"showarrow\":false,\"text\":\"metrics=balanced_accuracy_score\",\"x\":0.908,\"xanchor\":\"center\",\"xref\":\"paper\",\"y\":1.0,\"yanchor\":\"bottom\",\"yref\":\"paper\"}],\"legend\":{\"title\":{\"text\":\"metrics\"},\"tracegroupgap\":0},\"title\":{\"text\":\"A Grouped Bar Chart With Plotly Express in Python\"},\"barmode\":\"group\"},                        {\"responsive\": true}                    ).then(function(){\n",
       "                            \n",
       "var gd = document.getElementById('59f6cd49-f11e-4151-8893-c29af815d189');\n",
       "var x = new MutationObserver(function (mutations, observer) {{\n",
       "        var display = window.getComputedStyle(gd).display;\n",
       "        if (!display || display === 'none') {{\n",
       "            console.log([gd, 'removed!']);\n",
       "            Plotly.purge(gd);\n",
       "            observer.disconnect();\n",
       "        }}\n",
       "}});\n",
       "\n",
       "// Listen for the removal of the full notebook cells\n",
       "var notebookContainer = gd.closest('#notebook-container');\n",
       "if (notebookContainer) {{\n",
       "    x.observe(notebookContainer, {childList: true});\n",
       "}}\n",
       "\n",
       "// Listen for the clearing of the current output cell\n",
       "var outputEl = gd.closest('.output');\n",
       "if (outputEl) {{\n",
       "    x.observe(outputEl, {childList: true});\n",
       "}}\n",
       "\n",
       "                        })                };                });            </script>        </div>"
      ]
     },
     "metadata": {},
     "output_type": "display_data"
    }
   ],
   "source": [
    "fig = px.bar(metricsdf, x=\"Models\", color=\"metrics\",\n",
    "             y='value',\n",
    "             title=\"A Grouped Bar Chart With Plotly Express in Python\",\n",
    "             barmode='group',\n",
    "             facet_col='metrics'\n",
    "            )\n",
    "\n",
    "fig.show()"
   ]
  },
  {
   "cell_type": "markdown",
   "id": "a6c70ae4",
   "metadata": {
    "papermill": {
     "duration": 0.053358,
     "end_time": "2022-04-10T17:53:28.129533",
     "exception": false,
     "start_time": "2022-04-10T17:53:28.076175",
     "status": "completed"
    },
    "tags": []
   },
   "source": [
    "## after evaluating all the modelling methods for imbalanced classes, Class weightage method performs the best.\n",
    "### Another advantage of this method is its simplicity; while SMOTE takes a significant amount of time to run, class weights does not add to the time complexity of the machine learning pipeline."
   ]
  }
 ],
 "metadata": {
  "kernelspec": {
   "display_name": "Python 3",
   "language": "python",
   "name": "python3"
  },
  "language_info": {
   "codemirror_mode": {
    "name": "ipython",
    "version": 3
   },
   "file_extension": ".py",
   "mimetype": "text/x-python",
   "name": "python",
   "nbconvert_exporter": "python",
   "pygments_lexer": "ipython3",
   "version": "3.7.12"
  },
  "papermill": {
   "default_parameters": {},
   "duration": 641.461202,
   "end_time": "2022-04-10T17:53:28.994730",
   "environment_variables": {},
   "exception": null,
   "input_path": "__notebook__.ipynb",
   "output_path": "__notebook__.ipynb",
   "parameters": {},
   "start_time": "2022-04-10T17:42:47.533528",
   "version": "2.3.3"
  }
 },
 "nbformat": 4,
 "nbformat_minor": 5
}
